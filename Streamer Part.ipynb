{
 "cells": [
  {
   "cell_type": "markdown",
   "id": "3a49f357",
   "metadata": {},
   "source": [
    "Recall that We can generally enumarate 3 categories of participants as follows:\n",
    "\n",
    "1. User/Watcher\n",
    "\n",
    "2. Streamer\n",
    "\n",
    "3. Company"
   ]
  },
  {
   "cell_type": "markdown",
   "id": "9cd194e2",
   "metadata": {},
   "source": [
    "In this notebook, we continue to conduct analysis on the role of `streamer`."
   ]
  },
  {
   "cell_type": "markdown",
   "id": "b4231095",
   "metadata": {},
   "source": [
    "What streamer cares: \n",
    "1. money\n",
    "2. the number of viewers/ a.k.a. traffic."
   ]
  },
  {
   "cell_type": "markdown",
   "id": "2f0e9596",
   "metadata": {},
   "source": [
    "## Also, we start from the first-time streamer."
   ]
  },
  {
   "cell_type": "markdown",
   "id": "11c5ed4e",
   "metadata": {},
   "source": [
    "We do not talk about technical issues like how to streamer here, rather we discuss about how to gather viewer."
   ]
  },
  {
   "cell_type": "markdown",
   "id": "7c470f50",
   "metadata": {},
   "source": [
    "## Question1: What content is a better choice for this streamer."
   ]
  },
  {
   "cell_type": "markdown",
   "id": "95ce451f",
   "metadata": {},
   "source": [
    "This is a realistic question if this streamer wants to stream for making his living."
   ]
  },
  {
   "cell_type": "markdown",
   "id": "1c87c7aa",
   "metadata": {},
   "source": [
    "There are four quadrants if we consider 2 variables : money and traffic.\n",
    "\n",
    "1. more money/ high volume of traffic\n",
    "2. more money/ low volume of traffic\n",
    "3. less money/ high volume of traffic\n",
    "4. less money/ low volume of traffic"
   ]
  },
  {
   "cell_type": "markdown",
   "id": "aa455021",
   "metadata": {},
   "source": [
    "As a new streamer, which type can be the better choice?"
   ]
  },
  {
   "cell_type": "markdown",
   "id": "6aad26ba",
   "metadata": {},
   "source": [
    "This is a conceptual analysis, so we assume that the streamer can somehow get the data, directly or through the company."
   ]
  },
  {
   "cell_type": "markdown",
   "id": "d4a89fb7",
   "metadata": {},
   "source": [
    "It is possible that in each type of stream there are several streamer can earn much money and high volume of traffic,\\\n",
    "but we take a general view of whole type of stream."
   ]
  },
  {
   "cell_type": "markdown",
   "id": "0263c341",
   "metadata": {},
   "source": [
    "Assume that there are 4 types of stream with each statistics: "
   ]
  },
  {
   "cell_type": "code",
   "execution_count": 1,
   "id": "5c89660a",
   "metadata": {},
   "outputs": [],
   "source": [
    "import numpy as np\n",
    "import pandas as pd"
   ]
  },
  {
   "cell_type": "code",
   "execution_count": 2,
   "id": "7f9e552c",
   "metadata": {},
   "outputs": [],
   "source": [
    "df = pd.DataFrame({\n",
    "    'Type':[1,2,3,4] , 'AvgDonateRank' :[1,2,3,4], 'AvgViewerRank' : [1,3,2,4] \n",
    "})\n",
    "# For simplicity, we call all types of earnings as 「donate」"
   ]
  },
  {
   "cell_type": "code",
   "execution_count": 3,
   "id": "12cc03d8",
   "metadata": {},
   "outputs": [
    {
     "data": {
      "text/html": [
       "<div>\n",
       "<style scoped>\n",
       "    .dataframe tbody tr th:only-of-type {\n",
       "        vertical-align: middle;\n",
       "    }\n",
       "\n",
       "    .dataframe tbody tr th {\n",
       "        vertical-align: top;\n",
       "    }\n",
       "\n",
       "    .dataframe thead th {\n",
       "        text-align: right;\n",
       "    }\n",
       "</style>\n",
       "<table border=\"1\" class=\"dataframe\">\n",
       "  <thead>\n",
       "    <tr style=\"text-align: right;\">\n",
       "      <th></th>\n",
       "      <th>Type</th>\n",
       "      <th>AvgDonateRank</th>\n",
       "      <th>AvgViewerRank</th>\n",
       "    </tr>\n",
       "  </thead>\n",
       "  <tbody>\n",
       "    <tr>\n",
       "      <th>0</th>\n",
       "      <td>1</td>\n",
       "      <td>1</td>\n",
       "      <td>1</td>\n",
       "    </tr>\n",
       "    <tr>\n",
       "      <th>1</th>\n",
       "      <td>2</td>\n",
       "      <td>2</td>\n",
       "      <td>3</td>\n",
       "    </tr>\n",
       "    <tr>\n",
       "      <th>2</th>\n",
       "      <td>3</td>\n",
       "      <td>3</td>\n",
       "      <td>2</td>\n",
       "    </tr>\n",
       "    <tr>\n",
       "      <th>3</th>\n",
       "      <td>4</td>\n",
       "      <td>4</td>\n",
       "      <td>4</td>\n",
       "    </tr>\n",
       "  </tbody>\n",
       "</table>\n",
       "</div>"
      ],
      "text/plain": [
       "   Type  AvgDonateRank  AvgViewerRank\n",
       "0     1              1              1\n",
       "1     2              2              3\n",
       "2     3              3              2\n",
       "3     4              4              4"
      ]
     },
     "execution_count": 3,
     "metadata": {},
     "output_type": "execute_result"
    }
   ],
   "source": [
    "df"
   ]
  },
  {
   "cell_type": "markdown",
   "id": "1078d047",
   "metadata": {},
   "source": [
    "It seems that we can jump into the type 1 and prepare for the stream, right?"
   ]
  },
  {
   "cell_type": "markdown",
   "id": "a8300804",
   "metadata": {},
   "source": [
    "But if the reality is:"
   ]
  },
  {
   "cell_type": "code",
   "execution_count": 4,
   "id": "489928de",
   "metadata": {},
   "outputs": [],
   "source": [
    "df_streamer = pd.DataFrame({\n",
    "    'StreamType': [1,1,1,2,2,2,2,2,3,3,3,3,4,4]\n",
    "})\n"
   ]
  },
  {
   "cell_type": "code",
   "execution_count": 5,
   "id": "83b1c1e0",
   "metadata": {
    "scrolled": true
   },
   "outputs": [
    {
     "data": {
      "text/html": [
       "<div>\n",
       "<style scoped>\n",
       "    .dataframe tbody tr th:only-of-type {\n",
       "        vertical-align: middle;\n",
       "    }\n",
       "\n",
       "    .dataframe tbody tr th {\n",
       "        vertical-align: top;\n",
       "    }\n",
       "\n",
       "    .dataframe thead th {\n",
       "        text-align: right;\n",
       "    }\n",
       "</style>\n",
       "<table border=\"1\" class=\"dataframe\">\n",
       "  <thead>\n",
       "    <tr style=\"text-align: right;\">\n",
       "      <th></th>\n",
       "      <th>StreamType</th>\n",
       "    </tr>\n",
       "  </thead>\n",
       "  <tbody>\n",
       "    <tr>\n",
       "      <th>0</th>\n",
       "      <td>1</td>\n",
       "    </tr>\n",
       "    <tr>\n",
       "      <th>1</th>\n",
       "      <td>1</td>\n",
       "    </tr>\n",
       "    <tr>\n",
       "      <th>2</th>\n",
       "      <td>1</td>\n",
       "    </tr>\n",
       "    <tr>\n",
       "      <th>3</th>\n",
       "      <td>2</td>\n",
       "    </tr>\n",
       "    <tr>\n",
       "      <th>4</th>\n",
       "      <td>2</td>\n",
       "    </tr>\n",
       "    <tr>\n",
       "      <th>5</th>\n",
       "      <td>2</td>\n",
       "    </tr>\n",
       "    <tr>\n",
       "      <th>6</th>\n",
       "      <td>2</td>\n",
       "    </tr>\n",
       "    <tr>\n",
       "      <th>7</th>\n",
       "      <td>2</td>\n",
       "    </tr>\n",
       "    <tr>\n",
       "      <th>8</th>\n",
       "      <td>3</td>\n",
       "    </tr>\n",
       "    <tr>\n",
       "      <th>9</th>\n",
       "      <td>3</td>\n",
       "    </tr>\n",
       "    <tr>\n",
       "      <th>10</th>\n",
       "      <td>3</td>\n",
       "    </tr>\n",
       "    <tr>\n",
       "      <th>11</th>\n",
       "      <td>3</td>\n",
       "    </tr>\n",
       "    <tr>\n",
       "      <th>12</th>\n",
       "      <td>4</td>\n",
       "    </tr>\n",
       "    <tr>\n",
       "      <th>13</th>\n",
       "      <td>4</td>\n",
       "    </tr>\n",
       "  </tbody>\n",
       "</table>\n",
       "</div>"
      ],
      "text/plain": [
       "    StreamType\n",
       "0            1\n",
       "1            1\n",
       "2            1\n",
       "3            2\n",
       "4            2\n",
       "5            2\n",
       "6            2\n",
       "7            2\n",
       "8            3\n",
       "9            3\n",
       "10           3\n",
       "11           3\n",
       "12           4\n",
       "13           4"
      ]
     },
     "execution_count": 5,
     "metadata": {},
     "output_type": "execute_result"
    }
   ],
   "source": [
    "df_streamer"
   ]
  },
  {
   "cell_type": "code",
   "execution_count": 6,
   "id": "bc5e7070",
   "metadata": {},
   "outputs": [],
   "source": [
    "df_streamer['StreamerID'] = range(1,15)"
   ]
  },
  {
   "cell_type": "code",
   "execution_count": 7,
   "id": "d53a042c",
   "metadata": {
    "scrolled": true
   },
   "outputs": [],
   "source": [
    "df_streamer['Donate'] = [1000000,20000,20000,100000,70000,45000,30000,50000,100000,50000,20000,15000,40000,30000]\n",
    "df_streamer['Viewer'] = [100000,500,1000,70000,35000,10000,8000,5000,40000,10000,5000,4000,2000,1500]"
   ]
  },
  {
   "cell_type": "code",
   "execution_count": 8,
   "id": "3421f60a",
   "metadata": {},
   "outputs": [
    {
     "data": {
      "text/plain": [
       "StreamType\n",
       "1    346666.666667\n",
       "2     59000.000000\n",
       "3     46250.000000\n",
       "4     35000.000000\n",
       "Name: Donate, dtype: float64"
      ]
     },
     "execution_count": 8,
     "metadata": {},
     "output_type": "execute_result"
    }
   ],
   "source": [
    "df_streamer.groupby(by = 'StreamType')['Donate'].mean()"
   ]
  },
  {
   "cell_type": "code",
   "execution_count": 9,
   "id": "ddcabc7c",
   "metadata": {},
   "outputs": [
    {
     "data": {
      "text/plain": [
       "StreamType\n",
       "1    33833.333333\n",
       "2    25600.000000\n",
       "3    14750.000000\n",
       "4     1750.000000\n",
       "Name: Viewer, dtype: float64"
      ]
     },
     "execution_count": 9,
     "metadata": {},
     "output_type": "execute_result"
    }
   ],
   "source": [
    "df_streamer.groupby(by = 'StreamType')['Viewer'].mean()"
   ]
  },
  {
   "cell_type": "markdown",
   "id": "7bd5c823",
   "metadata": {},
   "source": [
    "This shows that\n",
    "\n",
    "* Although Type1 has the most higher average donate and viewer, but other streamer of type1 is not different from the type4.\n",
    "* Exclude StreamerID = 1, maybe type2 is the better choice."
   ]
  },
  {
   "cell_type": "markdown",
   "id": "ca625caf",
   "metadata": {},
   "source": [
    "## How could this happen?"
   ]
  },
  {
   "cell_type": "markdown",
   "id": "97205231",
   "metadata": {},
   "source": [
    "Ans: Variance"
   ]
  },
  {
   "cell_type": "code",
   "execution_count": 10,
   "id": "bbafe950",
   "metadata": {},
   "outputs": [
    {
     "data": {
      "text/plain": [
       "StreamType\n",
       "1    3.201333e+11\n",
       "2    7.300000e+08\n",
       "3    1.522917e+09\n",
       "4    5.000000e+07\n",
       "Name: Donate, dtype: float64"
      ]
     },
     "execution_count": 10,
     "metadata": {},
     "output_type": "execute_result"
    }
   ],
   "source": [
    "df_streamer.groupby(by = 'StreamType')['Donate'].var()"
   ]
  },
  {
   "cell_type": "code",
   "execution_count": 11,
   "id": "cbb48a26",
   "metadata": {},
   "outputs": [
    {
     "data": {
      "text/plain": [
       "StreamType\n",
       "1    3.283583e+09\n",
       "2    7.593000e+08\n",
       "3    2.902500e+08\n",
       "4    1.250000e+05\n",
       "Name: Viewer, dtype: float64"
      ]
     },
     "execution_count": 11,
     "metadata": {},
     "output_type": "execute_result"
    }
   ],
   "source": [
    "df_streamer.groupby(by = 'StreamType')['Viewer'].var()"
   ]
  },
  {
   "cell_type": "markdown",
   "id": "b3b767d8",
   "metadata": {},
   "source": [
    "So, we can not simply look at the average value of donate and viewer."
   ]
  },
  {
   "cell_type": "markdown",
   "id": "cd1369c0",
   "metadata": {},
   "source": [
    "## More General Data:"
   ]
  },
  {
   "cell_type": "markdown",
   "id": "fc445667",
   "metadata": {},
   "source": [
    "Now we assume we have 100 streamers with # of Type1 = 50; # of Type2 = 30; # of Type3 = 15 and # of Type4 = 5"
   ]
  },
  {
   "cell_type": "code",
   "execution_count": 12,
   "id": "c3f0e706",
   "metadata": {},
   "outputs": [],
   "source": [
    "type1num = 50\n",
    "type2num = 30\n",
    "type3num = 15\n",
    "type4num = 5\n",
    "arr = np.array([1] * type1num + [2] * type2num + [3] * type3num + [4] * type4num)"
   ]
  },
  {
   "cell_type": "code",
   "execution_count": 13,
   "id": "c0acd1a2",
   "metadata": {},
   "outputs": [],
   "source": [
    "np.random.shuffle(arr)"
   ]
  },
  {
   "cell_type": "code",
   "execution_count": 14,
   "id": "6cd1c845",
   "metadata": {},
   "outputs": [
    {
     "data": {
      "text/plain": [
       "array([1, 2, 2, 2, 1, 2, 1, 1, 2, 1, 1, 1, 3, 3, 1, 3, 1, 1, 2, 2, 1, 4,\n",
       "       1, 1, 1, 1, 1, 3, 1, 1, 1, 3, 3, 3, 1, 2, 1, 2, 2, 1, 1, 1, 1, 2,\n",
       "       1, 1, 2, 3, 4, 2, 1, 2, 4, 1, 3, 1, 2, 1, 1, 1, 3, 1, 1, 2, 2, 1,\n",
       "       1, 2, 1, 2, 1, 2, 1, 2, 2, 2, 1, 2, 2, 1, 1, 1, 1, 2, 1, 3, 1, 2,\n",
       "       4, 1, 3, 1, 2, 1, 3, 2, 2, 3, 3, 4])"
      ]
     },
     "execution_count": 14,
     "metadata": {},
     "output_type": "execute_result"
    }
   ],
   "source": [
    "arr"
   ]
  },
  {
   "cell_type": "markdown",
   "id": "67b25e73",
   "metadata": {},
   "source": [
    "Since donate and viewer numbers may be right-skewed, we construct a right-skewed-like data."
   ]
  },
  {
   "cell_type": "code",
   "execution_count": 15,
   "id": "4d78d531",
   "metadata": {},
   "outputs": [],
   "source": [
    "df = pd.DataFrame()"
   ]
  },
  {
   "cell_type": "code",
   "execution_count": 16,
   "id": "fd63afb6",
   "metadata": {},
   "outputs": [],
   "source": [
    "df['StreamType'] = arr"
   ]
  },
  {
   "cell_type": "code",
   "execution_count": 17,
   "id": "0416733e",
   "metadata": {},
   "outputs": [],
   "source": [
    "df['StreamerID'] = range(1,101)"
   ]
  },
  {
   "cell_type": "code",
   "execution_count": 18,
   "id": "701bfeff",
   "metadata": {},
   "outputs": [],
   "source": [
    "df = df.sort_values(by = 'StreamType')"
   ]
  },
  {
   "cell_type": "code",
   "execution_count": 19,
   "id": "a4482d56",
   "metadata": {},
   "outputs": [
    {
     "data": {
      "text/html": [
       "<div>\n",
       "<style scoped>\n",
       "    .dataframe tbody tr th:only-of-type {\n",
       "        vertical-align: middle;\n",
       "    }\n",
       "\n",
       "    .dataframe tbody tr th {\n",
       "        vertical-align: top;\n",
       "    }\n",
       "\n",
       "    .dataframe thead th {\n",
       "        text-align: right;\n",
       "    }\n",
       "</style>\n",
       "<table border=\"1\" class=\"dataframe\">\n",
       "  <thead>\n",
       "    <tr style=\"text-align: right;\">\n",
       "      <th></th>\n",
       "      <th>StreamType</th>\n",
       "      <th>StreamerID</th>\n",
       "    </tr>\n",
       "  </thead>\n",
       "  <tbody>\n",
       "    <tr>\n",
       "      <th>0</th>\n",
       "      <td>1</td>\n",
       "      <td>1</td>\n",
       "    </tr>\n",
       "    <tr>\n",
       "      <th>30</th>\n",
       "      <td>1</td>\n",
       "      <td>31</td>\n",
       "    </tr>\n",
       "    <tr>\n",
       "      <th>62</th>\n",
       "      <td>1</td>\n",
       "      <td>63</td>\n",
       "    </tr>\n",
       "    <tr>\n",
       "      <th>79</th>\n",
       "      <td>1</td>\n",
       "      <td>80</td>\n",
       "    </tr>\n",
       "    <tr>\n",
       "      <th>34</th>\n",
       "      <td>1</td>\n",
       "      <td>35</td>\n",
       "    </tr>\n",
       "    <tr>\n",
       "      <th>...</th>\n",
       "      <td>...</td>\n",
       "      <td>...</td>\n",
       "    </tr>\n",
       "    <tr>\n",
       "      <th>21</th>\n",
       "      <td>4</td>\n",
       "      <td>22</td>\n",
       "    </tr>\n",
       "    <tr>\n",
       "      <th>48</th>\n",
       "      <td>4</td>\n",
       "      <td>49</td>\n",
       "    </tr>\n",
       "    <tr>\n",
       "      <th>52</th>\n",
       "      <td>4</td>\n",
       "      <td>53</td>\n",
       "    </tr>\n",
       "    <tr>\n",
       "      <th>88</th>\n",
       "      <td>4</td>\n",
       "      <td>89</td>\n",
       "    </tr>\n",
       "    <tr>\n",
       "      <th>99</th>\n",
       "      <td>4</td>\n",
       "      <td>100</td>\n",
       "    </tr>\n",
       "  </tbody>\n",
       "</table>\n",
       "<p>100 rows × 2 columns</p>\n",
       "</div>"
      ],
      "text/plain": [
       "    StreamType  StreamerID\n",
       "0            1           1\n",
       "30           1          31\n",
       "62           1          63\n",
       "79           1          80\n",
       "34           1          35\n",
       "..         ...         ...\n",
       "21           4          22\n",
       "48           4          49\n",
       "52           4          53\n",
       "88           4          89\n",
       "99           4         100\n",
       "\n",
       "[100 rows x 2 columns]"
      ]
     },
     "execution_count": 19,
     "metadata": {},
     "output_type": "execute_result"
    }
   ],
   "source": [
    "df"
   ]
  },
  {
   "cell_type": "code",
   "execution_count": 20,
   "id": "d1058393",
   "metadata": {},
   "outputs": [],
   "source": [
    "from scipy.stats import skewnorm"
   ]
  },
  {
   "cell_type": "code",
   "execution_count": 21,
   "id": "1ce28799",
   "metadata": {},
   "outputs": [],
   "source": [
    "donate = skewnorm.rvs(2000, size=100)*20000"
   ]
  },
  {
   "cell_type": "code",
   "execution_count": 22,
   "id": "bcc26df9",
   "metadata": {},
   "outputs": [],
   "source": [
    "df['Donate/Month'] = donate"
   ]
  },
  {
   "cell_type": "code",
   "execution_count": 23,
   "id": "1bcfe813",
   "metadata": {},
   "outputs": [
    {
     "data": {
      "text/html": [
       "<div>\n",
       "<style scoped>\n",
       "    .dataframe tbody tr th:only-of-type {\n",
       "        vertical-align: middle;\n",
       "    }\n",
       "\n",
       "    .dataframe tbody tr th {\n",
       "        vertical-align: top;\n",
       "    }\n",
       "\n",
       "    .dataframe thead th {\n",
       "        text-align: right;\n",
       "    }\n",
       "</style>\n",
       "<table border=\"1\" class=\"dataframe\">\n",
       "  <thead>\n",
       "    <tr style=\"text-align: right;\">\n",
       "      <th></th>\n",
       "      <th>StreamType</th>\n",
       "      <th>StreamerID</th>\n",
       "      <th>Donate/Month</th>\n",
       "    </tr>\n",
       "  </thead>\n",
       "  <tbody>\n",
       "    <tr>\n",
       "      <th>0</th>\n",
       "      <td>1</td>\n",
       "      <td>1</td>\n",
       "      <td>5686.673667</td>\n",
       "    </tr>\n",
       "    <tr>\n",
       "      <th>30</th>\n",
       "      <td>1</td>\n",
       "      <td>31</td>\n",
       "      <td>25921.078365</td>\n",
       "    </tr>\n",
       "    <tr>\n",
       "      <th>62</th>\n",
       "      <td>1</td>\n",
       "      <td>63</td>\n",
       "      <td>10131.158175</td>\n",
       "    </tr>\n",
       "    <tr>\n",
       "      <th>79</th>\n",
       "      <td>1</td>\n",
       "      <td>80</td>\n",
       "      <td>15417.646929</td>\n",
       "    </tr>\n",
       "    <tr>\n",
       "      <th>34</th>\n",
       "      <td>1</td>\n",
       "      <td>35</td>\n",
       "      <td>5977.552841</td>\n",
       "    </tr>\n",
       "    <tr>\n",
       "      <th>...</th>\n",
       "      <td>...</td>\n",
       "      <td>...</td>\n",
       "      <td>...</td>\n",
       "    </tr>\n",
       "    <tr>\n",
       "      <th>21</th>\n",
       "      <td>4</td>\n",
       "      <td>22</td>\n",
       "      <td>26799.963261</td>\n",
       "    </tr>\n",
       "    <tr>\n",
       "      <th>48</th>\n",
       "      <td>4</td>\n",
       "      <td>49</td>\n",
       "      <td>4316.279807</td>\n",
       "    </tr>\n",
       "    <tr>\n",
       "      <th>52</th>\n",
       "      <td>4</td>\n",
       "      <td>53</td>\n",
       "      <td>16504.134080</td>\n",
       "    </tr>\n",
       "    <tr>\n",
       "      <th>88</th>\n",
       "      <td>4</td>\n",
       "      <td>89</td>\n",
       "      <td>11921.622333</td>\n",
       "    </tr>\n",
       "    <tr>\n",
       "      <th>99</th>\n",
       "      <td>4</td>\n",
       "      <td>100</td>\n",
       "      <td>11031.380232</td>\n",
       "    </tr>\n",
       "  </tbody>\n",
       "</table>\n",
       "<p>100 rows × 3 columns</p>\n",
       "</div>"
      ],
      "text/plain": [
       "    StreamType  StreamerID  Donate/Month\n",
       "0            1           1   5686.673667\n",
       "30           1          31  25921.078365\n",
       "62           1          63  10131.158175\n",
       "79           1          80  15417.646929\n",
       "34           1          35   5977.552841\n",
       "..         ...         ...           ...\n",
       "21           4          22  26799.963261\n",
       "48           4          49   4316.279807\n",
       "52           4          53  16504.134080\n",
       "88           4          89  11921.622333\n",
       "99           4         100  11031.380232\n",
       "\n",
       "[100 rows x 3 columns]"
      ]
     },
     "execution_count": 23,
     "metadata": {},
     "output_type": "execute_result"
    }
   ],
   "source": [
    "df"
   ]
  },
  {
   "cell_type": "code",
   "execution_count": 24,
   "id": "55eaa4cb",
   "metadata": {},
   "outputs": [],
   "source": [
    "viewer = skewnorm.rvs(2000, size=100)*1000"
   ]
  },
  {
   "cell_type": "code",
   "execution_count": 25,
   "id": "7ad03782",
   "metadata": {},
   "outputs": [],
   "source": [
    "df['Viewer/Daily'] = viewer"
   ]
  },
  {
   "cell_type": "code",
   "execution_count": 26,
   "id": "f585a048",
   "metadata": {},
   "outputs": [
    {
     "data": {
      "text/html": [
       "<div>\n",
       "<style scoped>\n",
       "    .dataframe tbody tr th:only-of-type {\n",
       "        vertical-align: middle;\n",
       "    }\n",
       "\n",
       "    .dataframe tbody tr th {\n",
       "        vertical-align: top;\n",
       "    }\n",
       "\n",
       "    .dataframe thead th {\n",
       "        text-align: right;\n",
       "    }\n",
       "</style>\n",
       "<table border=\"1\" class=\"dataframe\">\n",
       "  <thead>\n",
       "    <tr style=\"text-align: right;\">\n",
       "      <th></th>\n",
       "      <th>StreamType</th>\n",
       "      <th>StreamerID</th>\n",
       "      <th>Donate/Month</th>\n",
       "      <th>Viewer/Daily</th>\n",
       "    </tr>\n",
       "  </thead>\n",
       "  <tbody>\n",
       "    <tr>\n",
       "      <th>0</th>\n",
       "      <td>1</td>\n",
       "      <td>1</td>\n",
       "      <td>5686.673667</td>\n",
       "      <td>753.374521</td>\n",
       "    </tr>\n",
       "    <tr>\n",
       "      <th>30</th>\n",
       "      <td>1</td>\n",
       "      <td>31</td>\n",
       "      <td>25921.078365</td>\n",
       "      <td>780.263905</td>\n",
       "    </tr>\n",
       "    <tr>\n",
       "      <th>62</th>\n",
       "      <td>1</td>\n",
       "      <td>63</td>\n",
       "      <td>10131.158175</td>\n",
       "      <td>1010.492305</td>\n",
       "    </tr>\n",
       "    <tr>\n",
       "      <th>79</th>\n",
       "      <td>1</td>\n",
       "      <td>80</td>\n",
       "      <td>15417.646929</td>\n",
       "      <td>1244.494376</td>\n",
       "    </tr>\n",
       "    <tr>\n",
       "      <th>34</th>\n",
       "      <td>1</td>\n",
       "      <td>35</td>\n",
       "      <td>5977.552841</td>\n",
       "      <td>2815.652434</td>\n",
       "    </tr>\n",
       "    <tr>\n",
       "      <th>...</th>\n",
       "      <td>...</td>\n",
       "      <td>...</td>\n",
       "      <td>...</td>\n",
       "      <td>...</td>\n",
       "    </tr>\n",
       "    <tr>\n",
       "      <th>21</th>\n",
       "      <td>4</td>\n",
       "      <td>22</td>\n",
       "      <td>26799.963261</td>\n",
       "      <td>53.838280</td>\n",
       "    </tr>\n",
       "    <tr>\n",
       "      <th>48</th>\n",
       "      <td>4</td>\n",
       "      <td>49</td>\n",
       "      <td>4316.279807</td>\n",
       "      <td>301.069748</td>\n",
       "    </tr>\n",
       "    <tr>\n",
       "      <th>52</th>\n",
       "      <td>4</td>\n",
       "      <td>53</td>\n",
       "      <td>16504.134080</td>\n",
       "      <td>1003.170632</td>\n",
       "    </tr>\n",
       "    <tr>\n",
       "      <th>88</th>\n",
       "      <td>4</td>\n",
       "      <td>89</td>\n",
       "      <td>11921.622333</td>\n",
       "      <td>162.599413</td>\n",
       "    </tr>\n",
       "    <tr>\n",
       "      <th>99</th>\n",
       "      <td>4</td>\n",
       "      <td>100</td>\n",
       "      <td>11031.380232</td>\n",
       "      <td>725.687154</td>\n",
       "    </tr>\n",
       "  </tbody>\n",
       "</table>\n",
       "<p>100 rows × 4 columns</p>\n",
       "</div>"
      ],
      "text/plain": [
       "    StreamType  StreamerID  Donate/Month  Viewer/Daily\n",
       "0            1           1   5686.673667    753.374521\n",
       "30           1          31  25921.078365    780.263905\n",
       "62           1          63  10131.158175   1010.492305\n",
       "79           1          80  15417.646929   1244.494376\n",
       "34           1          35   5977.552841   2815.652434\n",
       "..         ...         ...           ...           ...\n",
       "21           4          22  26799.963261     53.838280\n",
       "48           4          49   4316.279807    301.069748\n",
       "52           4          53  16504.134080   1003.170632\n",
       "88           4          89  11921.622333    162.599413\n",
       "99           4         100  11031.380232    725.687154\n",
       "\n",
       "[100 rows x 4 columns]"
      ]
     },
     "execution_count": 26,
     "metadata": {},
     "output_type": "execute_result"
    }
   ],
   "source": [
    "df"
   ]
  },
  {
   "cell_type": "markdown",
   "id": "2cb20920",
   "metadata": {},
   "source": [
    "We give some analysis on this data."
   ]
  },
  {
   "cell_type": "code",
   "execution_count": 27,
   "id": "0627ae84",
   "metadata": {},
   "outputs": [
    {
     "data": {
      "text/html": [
       "<div>\n",
       "<style scoped>\n",
       "    .dataframe tbody tr th:only-of-type {\n",
       "        vertical-align: middle;\n",
       "    }\n",
       "\n",
       "    .dataframe tbody tr th {\n",
       "        vertical-align: top;\n",
       "    }\n",
       "\n",
       "    .dataframe thead th {\n",
       "        text-align: right;\n",
       "    }\n",
       "</style>\n",
       "<table border=\"1\" class=\"dataframe\">\n",
       "  <thead>\n",
       "    <tr style=\"text-align: right;\">\n",
       "      <th></th>\n",
       "      <th>count</th>\n",
       "      <th>mean</th>\n",
       "      <th>std</th>\n",
       "      <th>min</th>\n",
       "      <th>25%</th>\n",
       "      <th>50%</th>\n",
       "      <th>75%</th>\n",
       "      <th>max</th>\n",
       "    </tr>\n",
       "    <tr>\n",
       "      <th>StreamType</th>\n",
       "      <th></th>\n",
       "      <th></th>\n",
       "      <th></th>\n",
       "      <th></th>\n",
       "      <th></th>\n",
       "      <th></th>\n",
       "      <th></th>\n",
       "      <th></th>\n",
       "    </tr>\n",
       "  </thead>\n",
       "  <tbody>\n",
       "    <tr>\n",
       "      <th>1</th>\n",
       "      <td>50.0</td>\n",
       "      <td>15675.570899</td>\n",
       "      <td>11566.201615</td>\n",
       "      <td>1488.609750</td>\n",
       "      <td>7798.077751</td>\n",
       "      <td>11615.402311</td>\n",
       "      <td>19862.631410</td>\n",
       "      <td>49184.565532</td>\n",
       "    </tr>\n",
       "    <tr>\n",
       "      <th>2</th>\n",
       "      <td>30.0</td>\n",
       "      <td>17348.640610</td>\n",
       "      <td>12750.960541</td>\n",
       "      <td>748.282349</td>\n",
       "      <td>7120.192815</td>\n",
       "      <td>15999.478226</td>\n",
       "      <td>25794.684983</td>\n",
       "      <td>53146.255722</td>\n",
       "    </tr>\n",
       "    <tr>\n",
       "      <th>3</th>\n",
       "      <td>15.0</td>\n",
       "      <td>16652.411176</td>\n",
       "      <td>13722.834825</td>\n",
       "      <td>2176.447900</td>\n",
       "      <td>8539.230335</td>\n",
       "      <td>14544.968504</td>\n",
       "      <td>21162.854215</td>\n",
       "      <td>51309.634628</td>\n",
       "    </tr>\n",
       "    <tr>\n",
       "      <th>4</th>\n",
       "      <td>5.0</td>\n",
       "      <td>14114.675942</td>\n",
       "      <td>8320.919239</td>\n",
       "      <td>4316.279807</td>\n",
       "      <td>11031.380232</td>\n",
       "      <td>11921.622333</td>\n",
       "      <td>16504.134080</td>\n",
       "      <td>26799.963261</td>\n",
       "    </tr>\n",
       "  </tbody>\n",
       "</table>\n",
       "</div>"
      ],
      "text/plain": [
       "            count          mean           std          min           25%  \\\n",
       "StreamType                                                                 \n",
       "1            50.0  15675.570899  11566.201615  1488.609750   7798.077751   \n",
       "2            30.0  17348.640610  12750.960541   748.282349   7120.192815   \n",
       "3            15.0  16652.411176  13722.834825  2176.447900   8539.230335   \n",
       "4             5.0  14114.675942   8320.919239  4316.279807  11031.380232   \n",
       "\n",
       "                     50%           75%           max  \n",
       "StreamType                                            \n",
       "1           11615.402311  19862.631410  49184.565532  \n",
       "2           15999.478226  25794.684983  53146.255722  \n",
       "3           14544.968504  21162.854215  51309.634628  \n",
       "4           11921.622333  16504.134080  26799.963261  "
      ]
     },
     "execution_count": 27,
     "metadata": {},
     "output_type": "execute_result"
    }
   ],
   "source": [
    "df.groupby(by = 'StreamType')['Donate/Month'].describe()"
   ]
  },
  {
   "cell_type": "code",
   "execution_count": 28,
   "id": "8fe3e631",
   "metadata": {},
   "outputs": [
    {
     "data": {
      "text/html": [
       "<div>\n",
       "<style scoped>\n",
       "    .dataframe tbody tr th:only-of-type {\n",
       "        vertical-align: middle;\n",
       "    }\n",
       "\n",
       "    .dataframe tbody tr th {\n",
       "        vertical-align: top;\n",
       "    }\n",
       "\n",
       "    .dataframe thead th {\n",
       "        text-align: right;\n",
       "    }\n",
       "</style>\n",
       "<table border=\"1\" class=\"dataframe\">\n",
       "  <thead>\n",
       "    <tr style=\"text-align: right;\">\n",
       "      <th></th>\n",
       "      <th>count</th>\n",
       "      <th>mean</th>\n",
       "      <th>std</th>\n",
       "      <th>min</th>\n",
       "      <th>25%</th>\n",
       "      <th>50%</th>\n",
       "      <th>75%</th>\n",
       "      <th>max</th>\n",
       "    </tr>\n",
       "    <tr>\n",
       "      <th>StreamType</th>\n",
       "      <th></th>\n",
       "      <th></th>\n",
       "      <th></th>\n",
       "      <th></th>\n",
       "      <th></th>\n",
       "      <th></th>\n",
       "      <th></th>\n",
       "      <th></th>\n",
       "    </tr>\n",
       "  </thead>\n",
       "  <tbody>\n",
       "    <tr>\n",
       "      <th>1</th>\n",
       "      <td>50.0</td>\n",
       "      <td>1050.203286</td>\n",
       "      <td>788.968174</td>\n",
       "      <td>30.793731</td>\n",
       "      <td>447.536277</td>\n",
       "      <td>847.769224</td>\n",
       "      <td>1428.646024</td>\n",
       "      <td>2839.498767</td>\n",
       "    </tr>\n",
       "    <tr>\n",
       "      <th>2</th>\n",
       "      <td>30.0</td>\n",
       "      <td>787.027674</td>\n",
       "      <td>585.728740</td>\n",
       "      <td>5.861060</td>\n",
       "      <td>373.124697</td>\n",
       "      <td>643.134380</td>\n",
       "      <td>1284.253571</td>\n",
       "      <td>2218.298144</td>\n",
       "    </tr>\n",
       "    <tr>\n",
       "      <th>3</th>\n",
       "      <td>15.0</td>\n",
       "      <td>771.751262</td>\n",
       "      <td>538.694802</td>\n",
       "      <td>0.978108</td>\n",
       "      <td>403.309406</td>\n",
       "      <td>632.685958</td>\n",
       "      <td>1049.815639</td>\n",
       "      <td>2159.490292</td>\n",
       "    </tr>\n",
       "    <tr>\n",
       "      <th>4</th>\n",
       "      <td>5.0</td>\n",
       "      <td>449.273045</td>\n",
       "      <td>401.161420</td>\n",
       "      <td>53.838280</td>\n",
       "      <td>162.599413</td>\n",
       "      <td>301.069748</td>\n",
       "      <td>725.687154</td>\n",
       "      <td>1003.170632</td>\n",
       "    </tr>\n",
       "  </tbody>\n",
       "</table>\n",
       "</div>"
      ],
      "text/plain": [
       "            count         mean         std        min         25%         50%  \\\n",
       "StreamType                                                                      \n",
       "1            50.0  1050.203286  788.968174  30.793731  447.536277  847.769224   \n",
       "2            30.0   787.027674  585.728740   5.861060  373.124697  643.134380   \n",
       "3            15.0   771.751262  538.694802   0.978108  403.309406  632.685958   \n",
       "4             5.0   449.273045  401.161420  53.838280  162.599413  301.069748   \n",
       "\n",
       "                    75%          max  \n",
       "StreamType                            \n",
       "1           1428.646024  2839.498767  \n",
       "2           1284.253571  2218.298144  \n",
       "3           1049.815639  2159.490292  \n",
       "4            725.687154  1003.170632  "
      ]
     },
     "execution_count": 28,
     "metadata": {},
     "output_type": "execute_result"
    }
   ],
   "source": [
    "df.groupby(by = 'StreamType')['Viewer/Daily'].describe()"
   ]
  },
  {
   "cell_type": "markdown",
   "id": "5ab742f5",
   "metadata": {},
   "source": [
    "For a new streamer, I would recommend that we consider the following points:\\\n",
    "\\\n",
    "In the long run:\n",
    "* stable donate and viewer\n",
    "\n",
    "But note that, life may not wait you until you grow up, so we also need to look at the short period condition.\\\n",
    "\\\n",
    "For the long run, we care stability, but in the short period we care\n",
    "* growing potential based on the top streamers. (even rapidly)\n",
    "* extreme case of donate and viewer"
   ]
  },
  {
   "cell_type": "markdown",
   "id": "a4e15112",
   "metadata": {},
   "source": [
    "For stability, we care about mean and variance about donate and viewers.\\\n",
    "Note that since how everyone measures risk is different from each other,\\\n",
    "for me I will look more about the difference between mean and std of this type and the highest mean and lowest std."
   ]
  },
  {
   "cell_type": "code",
   "execution_count": 29,
   "id": "036e2cc5",
   "metadata": {},
   "outputs": [],
   "source": [
    "df_diff = pd.DataFrame(\n",
    "df.groupby(by = 'StreamType')['Donate/Month'].mean()\n",
    ")"
   ]
  },
  {
   "cell_type": "code",
   "execution_count": 30,
   "id": "78bfa305",
   "metadata": {},
   "outputs": [],
   "source": [
    "df_diff.columns = ['Donate/Month_mean']"
   ]
  },
  {
   "cell_type": "code",
   "execution_count": 31,
   "id": "0ae1c7cf",
   "metadata": {},
   "outputs": [],
   "source": [
    "df_diff['Donate/Month_std'] = pd.DataFrame(\n",
    "df.groupby(by = 'StreamType')['Donate/Month'].std()\n",
    ")"
   ]
  },
  {
   "cell_type": "code",
   "execution_count": 32,
   "id": "0e2ce329",
   "metadata": {},
   "outputs": [],
   "source": [
    "df_diff['Viewer/Daily_mean'] = pd.DataFrame(\n",
    "df.groupby(by = 'StreamType')['Viewer/Daily'].mean()\n",
    ")\n",
    "\n",
    "df_diff['Viewer/Daily_std'] = pd.DataFrame(\n",
    "df.groupby(by = 'StreamType')['Viewer/Daily'].std()\n",
    ")"
   ]
  },
  {
   "cell_type": "code",
   "execution_count": 33,
   "id": "65de5538",
   "metadata": {},
   "outputs": [
    {
     "data": {
      "text/html": [
       "<div>\n",
       "<style scoped>\n",
       "    .dataframe tbody tr th:only-of-type {\n",
       "        vertical-align: middle;\n",
       "    }\n",
       "\n",
       "    .dataframe tbody tr th {\n",
       "        vertical-align: top;\n",
       "    }\n",
       "\n",
       "    .dataframe thead th {\n",
       "        text-align: right;\n",
       "    }\n",
       "</style>\n",
       "<table border=\"1\" class=\"dataframe\">\n",
       "  <thead>\n",
       "    <tr style=\"text-align: right;\">\n",
       "      <th></th>\n",
       "      <th>Donate/Month_mean</th>\n",
       "      <th>Donate/Month_std</th>\n",
       "      <th>Viewer/Daily_mean</th>\n",
       "      <th>Viewer/Daily_std</th>\n",
       "    </tr>\n",
       "    <tr>\n",
       "      <th>StreamType</th>\n",
       "      <th></th>\n",
       "      <th></th>\n",
       "      <th></th>\n",
       "      <th></th>\n",
       "    </tr>\n",
       "  </thead>\n",
       "  <tbody>\n",
       "    <tr>\n",
       "      <th>1</th>\n",
       "      <td>15675.570899</td>\n",
       "      <td>11566.201615</td>\n",
       "      <td>1050.203286</td>\n",
       "      <td>788.968174</td>\n",
       "    </tr>\n",
       "    <tr>\n",
       "      <th>2</th>\n",
       "      <td>17348.640610</td>\n",
       "      <td>12750.960541</td>\n",
       "      <td>787.027674</td>\n",
       "      <td>585.728740</td>\n",
       "    </tr>\n",
       "    <tr>\n",
       "      <th>3</th>\n",
       "      <td>16652.411176</td>\n",
       "      <td>13722.834825</td>\n",
       "      <td>771.751262</td>\n",
       "      <td>538.694802</td>\n",
       "    </tr>\n",
       "    <tr>\n",
       "      <th>4</th>\n",
       "      <td>14114.675942</td>\n",
       "      <td>8320.919239</td>\n",
       "      <td>449.273045</td>\n",
       "      <td>401.161420</td>\n",
       "    </tr>\n",
       "  </tbody>\n",
       "</table>\n",
       "</div>"
      ],
      "text/plain": [
       "            Donate/Month_mean  Donate/Month_std  Viewer/Daily_mean  \\\n",
       "StreamType                                                           \n",
       "1                15675.570899      11566.201615        1050.203286   \n",
       "2                17348.640610      12750.960541         787.027674   \n",
       "3                16652.411176      13722.834825         771.751262   \n",
       "4                14114.675942       8320.919239         449.273045   \n",
       "\n",
       "            Viewer/Daily_std  \n",
       "StreamType                    \n",
       "1                 788.968174  \n",
       "2                 585.728740  \n",
       "3                 538.694802  \n",
       "4                 401.161420  "
      ]
     },
     "execution_count": 33,
     "metadata": {},
     "output_type": "execute_result"
    }
   ],
   "source": [
    "df_diff"
   ]
  },
  {
   "cell_type": "code",
   "execution_count": 34,
   "id": "deba8cd7",
   "metadata": {},
   "outputs": [],
   "source": [
    "df_diff['Donate_mean_diff'] = df_diff['Donate/Month_mean'].sub(df_diff['Donate/Month_mean'].max()).div(df_diff['Donate/Month_mean'])\n",
    "df_diff['Donate_std_diff'] = df_diff['Donate/Month_std'].div(df_diff['Donate/Month_std'].min())-1"
   ]
  },
  {
   "cell_type": "code",
   "execution_count": 35,
   "id": "c9ef671d",
   "metadata": {},
   "outputs": [],
   "source": [
    "df_diff['Viewer_mean_diff'] = df_diff['Viewer/Daily_mean'].sub(df_diff['Viewer/Daily_mean'].max()).div(df_diff['Viewer/Daily_mean'])\n",
    "df_diff['Viewer_std_diff'] = df_diff['Viewer/Daily_std'].div(df_diff['Viewer/Daily_std'].min())-1"
   ]
  },
  {
   "cell_type": "code",
   "execution_count": 36,
   "id": "f12113bd",
   "metadata": {},
   "outputs": [
    {
     "data": {
      "text/html": [
       "<div>\n",
       "<style scoped>\n",
       "    .dataframe tbody tr th:only-of-type {\n",
       "        vertical-align: middle;\n",
       "    }\n",
       "\n",
       "    .dataframe tbody tr th {\n",
       "        vertical-align: top;\n",
       "    }\n",
       "\n",
       "    .dataframe thead th {\n",
       "        text-align: right;\n",
       "    }\n",
       "</style>\n",
       "<table border=\"1\" class=\"dataframe\">\n",
       "  <thead>\n",
       "    <tr style=\"text-align: right;\">\n",
       "      <th></th>\n",
       "      <th>Donate/Month_mean</th>\n",
       "      <th>Donate/Month_std</th>\n",
       "      <th>Viewer/Daily_mean</th>\n",
       "      <th>Viewer/Daily_std</th>\n",
       "      <th>Donate_mean_diff</th>\n",
       "      <th>Donate_std_diff</th>\n",
       "      <th>Viewer_mean_diff</th>\n",
       "      <th>Viewer_std_diff</th>\n",
       "    </tr>\n",
       "    <tr>\n",
       "      <th>StreamType</th>\n",
       "      <th></th>\n",
       "      <th></th>\n",
       "      <th></th>\n",
       "      <th></th>\n",
       "      <th></th>\n",
       "      <th></th>\n",
       "      <th></th>\n",
       "      <th></th>\n",
       "    </tr>\n",
       "  </thead>\n",
       "  <tbody>\n",
       "    <tr>\n",
       "      <th>1</th>\n",
       "      <td>15675.570899</td>\n",
       "      <td>11566.201615</td>\n",
       "      <td>1050.203286</td>\n",
       "      <td>788.968174</td>\n",
       "      <td>-0.106731</td>\n",
       "      <td>0.390015</td>\n",
       "      <td>0.000000</td>\n",
       "      <td>0.966710</td>\n",
       "    </tr>\n",
       "    <tr>\n",
       "      <th>2</th>\n",
       "      <td>17348.640610</td>\n",
       "      <td>12750.960541</td>\n",
       "      <td>787.027674</td>\n",
       "      <td>585.728740</td>\n",
       "      <td>0.000000</td>\n",
       "      <td>0.532398</td>\n",
       "      <td>-0.334392</td>\n",
       "      <td>0.460082</td>\n",
       "    </tr>\n",
       "    <tr>\n",
       "      <th>3</th>\n",
       "      <td>16652.411176</td>\n",
       "      <td>13722.834825</td>\n",
       "      <td>771.751262</td>\n",
       "      <td>538.694802</td>\n",
       "      <td>-0.041810</td>\n",
       "      <td>0.649197</td>\n",
       "      <td>-0.360805</td>\n",
       "      <td>0.342838</td>\n",
       "    </tr>\n",
       "    <tr>\n",
       "      <th>4</th>\n",
       "      <td>14114.675942</td>\n",
       "      <td>8320.919239</td>\n",
       "      <td>449.273045</td>\n",
       "      <td>401.161420</td>\n",
       "      <td>-0.229121</td>\n",
       "      <td>0.000000</td>\n",
       "      <td>-1.337561</td>\n",
       "      <td>0.000000</td>\n",
       "    </tr>\n",
       "  </tbody>\n",
       "</table>\n",
       "</div>"
      ],
      "text/plain": [
       "            Donate/Month_mean  Donate/Month_std  Viewer/Daily_mean  \\\n",
       "StreamType                                                           \n",
       "1                15675.570899      11566.201615        1050.203286   \n",
       "2                17348.640610      12750.960541         787.027674   \n",
       "3                16652.411176      13722.834825         771.751262   \n",
       "4                14114.675942       8320.919239         449.273045   \n",
       "\n",
       "            Viewer/Daily_std  Donate_mean_diff  Donate_std_diff  \\\n",
       "StreamType                                                        \n",
       "1                 788.968174         -0.106731         0.390015   \n",
       "2                 585.728740          0.000000         0.532398   \n",
       "3                 538.694802         -0.041810         0.649197   \n",
       "4                 401.161420         -0.229121         0.000000   \n",
       "\n",
       "            Viewer_mean_diff  Viewer_std_diff  \n",
       "StreamType                                     \n",
       "1                   0.000000         0.966710  \n",
       "2                  -0.334392         0.460082  \n",
       "3                  -0.360805         0.342838  \n",
       "4                  -1.337561         0.000000  "
      ]
     },
     "execution_count": 36,
     "metadata": {},
     "output_type": "execute_result"
    }
   ],
   "source": [
    "df_diff"
   ]
  },
  {
   "cell_type": "markdown",
   "id": "3c50ba6d",
   "metadata": {},
   "source": [
    "For me, I prefer less Viewer_mean_diff and less Viewer_std_diff and \\\n",
    "moderate Donate_mean_diff and moderateDonate_std_diff.\\\n",
    "In this case, I will choose type1."
   ]
  },
  {
   "cell_type": "markdown",
   "id": "a8268711",
   "metadata": {},
   "source": [
    "Next, we consider the short period."
   ]
  },
  {
   "cell_type": "markdown",
   "id": "d3231f51",
   "metadata": {},
   "source": [
    "There are 2 main aspects the new streamer may concern:\n",
    "1. how bad would it be if I stream this type of content?\n",
    "2. how successful would it be if I gradully growing my community?"
   ]
  },
  {
   "cell_type": "markdown",
   "id": "0a345bfe",
   "metadata": {},
   "source": [
    "For case1, we look at the worst case and the 25th percentile of donate and viewer."
   ]
  },
  {
   "cell_type": "code",
   "execution_count": 44,
   "id": "36c66247",
   "metadata": {},
   "outputs": [],
   "source": [
    "df_low_high = pd.DataFrame(\n",
    "df.groupby(by = 'StreamType')['Donate/Month'].quantile(0.25)\n",
    ")"
   ]
  },
  {
   "cell_type": "code",
   "execution_count": 45,
   "id": "9a87c56a",
   "metadata": {},
   "outputs": [],
   "source": [
    "df_low_high.columns = ['Donate_25qtile']"
   ]
  },
  {
   "cell_type": "code",
   "execution_count": 49,
   "id": "84f9a129",
   "metadata": {},
   "outputs": [],
   "source": [
    "df_low_high['Donate_75qtile'] = df.groupby(by = 'StreamType')['Donate/Month'].quantile(0.75)\n",
    "df_low_high['Viewer_25qtile'] = df.groupby(by = 'StreamType')['Viewer/Daily'].quantile(0.25)\n",
    "df_low_high['Viewer_75qtile'] = df.groupby(by = 'StreamType')['Viewer/Daily'].quantile(0.75)"
   ]
  },
  {
   "cell_type": "code",
   "execution_count": 50,
   "id": "4a67e913",
   "metadata": {},
   "outputs": [
    {
     "data": {
      "text/html": [
       "<div>\n",
       "<style scoped>\n",
       "    .dataframe tbody tr th:only-of-type {\n",
       "        vertical-align: middle;\n",
       "    }\n",
       "\n",
       "    .dataframe tbody tr th {\n",
       "        vertical-align: top;\n",
       "    }\n",
       "\n",
       "    .dataframe thead th {\n",
       "        text-align: right;\n",
       "    }\n",
       "</style>\n",
       "<table border=\"1\" class=\"dataframe\">\n",
       "  <thead>\n",
       "    <tr style=\"text-align: right;\">\n",
       "      <th></th>\n",
       "      <th>Donate_25qtile</th>\n",
       "      <th>Donate_75qtile</th>\n",
       "      <th>Viewer_25qtile</th>\n",
       "      <th>Viewer_75qtile</th>\n",
       "    </tr>\n",
       "    <tr>\n",
       "      <th>StreamType</th>\n",
       "      <th></th>\n",
       "      <th></th>\n",
       "      <th></th>\n",
       "      <th></th>\n",
       "    </tr>\n",
       "  </thead>\n",
       "  <tbody>\n",
       "    <tr>\n",
       "      <th>1</th>\n",
       "      <td>7798.077751</td>\n",
       "      <td>19862.631410</td>\n",
       "      <td>447.536277</td>\n",
       "      <td>1428.646024</td>\n",
       "    </tr>\n",
       "    <tr>\n",
       "      <th>2</th>\n",
       "      <td>7120.192815</td>\n",
       "      <td>25794.684983</td>\n",
       "      <td>373.124697</td>\n",
       "      <td>1284.253571</td>\n",
       "    </tr>\n",
       "    <tr>\n",
       "      <th>3</th>\n",
       "      <td>8539.230335</td>\n",
       "      <td>21162.854215</td>\n",
       "      <td>403.309406</td>\n",
       "      <td>1049.815639</td>\n",
       "    </tr>\n",
       "    <tr>\n",
       "      <th>4</th>\n",
       "      <td>11031.380232</td>\n",
       "      <td>16504.134080</td>\n",
       "      <td>162.599413</td>\n",
       "      <td>725.687154</td>\n",
       "    </tr>\n",
       "  </tbody>\n",
       "</table>\n",
       "</div>"
      ],
      "text/plain": [
       "            Donate_25qtile  Donate_75qtile  Viewer_25qtile  Viewer_75qtile\n",
       "StreamType                                                                \n",
       "1              7798.077751    19862.631410      447.536277     1428.646024\n",
       "2              7120.192815    25794.684983      373.124697     1284.253571\n",
       "3              8539.230335    21162.854215      403.309406     1049.815639\n",
       "4             11031.380232    16504.134080      162.599413      725.687154"
      ]
     },
     "execution_count": 50,
     "metadata": {},
     "output_type": "execute_result"
    }
   ],
   "source": [
    "df_low_high"
   ]
  },
  {
   "cell_type": "markdown",
   "id": "7ba64216",
   "metadata": {},
   "source": [
    "The donate floor : 4 > 3 > 1 > 2\\\n",
    "The donate ceiling : 2 > 3 > 1 > 4\\\n",
    "The viewer floor : 1 > 3 > 2 > 4\\\n",
    "The viewer ceiling : 1 > 2 > 3 > 4"
   ]
  },
  {
   "cell_type": "markdown",
   "id": "aebaf3d9",
   "metadata": {},
   "source": [
    "In this case, type 3 can be a not bad start point \\\n",
    "since its 25th & 75th percentile donation have high rank, and\\\n",
    "its 25th percentile viewer numbers has high rank, and its 75th percentile viewer numbers has middle rank."
   ]
  },
  {
   "cell_type": "markdown",
   "id": "16b59cb5",
   "metadata": {},
   "source": [
    "Until now, we help a new streamer find which type of stream he can start with."
   ]
  },
  {
   "cell_type": "markdown",
   "id": "19ac8d2d",
   "metadata": {},
   "source": [
    "## Next, we talk more about the existing streamers."
   ]
  },
  {
   "cell_type": "markdown",
   "id": "91028bb4",
   "metadata": {},
   "source": [
    "This part could be more complicated."
   ]
  },
  {
   "cell_type": "markdown",
   "id": "61124865",
   "metadata": {},
   "source": [
    "For popular streamers, they may care more about stability and consistency.\\\n",
    "But for less popular streamers, they may care not just stability but also growing chances."
   ]
  },
  {
   "cell_type": "markdown",
   "id": "fa2ed9f5",
   "metadata": {},
   "source": [
    "In both cases, they need to analysis about their viewers and those of other streamers."
   ]
  },
  {
   "cell_type": "markdown",
   "id": "0921af89",
   "metadata": {},
   "source": [
    "## Question: What can we analyze?"
   ]
  },
  {
   "cell_type": "markdown",
   "id": "c16b8c0b",
   "metadata": {},
   "source": [
    "Ans: Engagement of Viewers"
   ]
  },
  {
   "cell_type": "markdown",
   "id": "5360f1c4",
   "metadata": {},
   "source": [
    "To be more specific, viewers have 3 basic types of behavior:\n",
    "* Watch\n",
    "* Chat\n",
    "* Donate"
   ]
  },
  {
   "cell_type": "markdown",
   "id": "5e556450",
   "metadata": {},
   "source": [
    "For these behaviors, we have a more important variable: `time`."
   ]
  },
  {
   "cell_type": "markdown",
   "id": "10eb606b",
   "metadata": {},
   "source": [
    "Time format can be detailed as intraday HH-MM-SS or date with workdays or holidays."
   ]
  },
  {
   "cell_type": "markdown",
   "id": "df4650ae",
   "metadata": {},
   "source": [
    "Also, we care about how this outcome shifts as time moves on."
   ]
  },
  {
   "cell_type": "markdown",
   "id": "ddb871c2",
   "metadata": {},
   "source": [
    "To make things simple, we discuss only about 3 time period with:\n",
    "* Week with no holiday.\n",
    "* Week with holiday.\n",
    "* Week after holiday."
   ]
  },
  {
   "cell_type": "markdown",
   "id": "aaddfe23",
   "metadata": {},
   "source": [
    "Similarly, the data is artificially generated. So, it may not meet the common sense."
   ]
  },
  {
   "cell_type": "markdown",
   "id": "e82b609d",
   "metadata": {},
   "source": [
    "We specify the encoding number of streamer scale which has average viewers :\n",
    "* 0-200 : 1\n",
    "* 200-500 : 2\n",
    "* 500-1000: 3\n",
    "* 1000-3000:4\n",
    "* 3000 up : 5"
   ]
  },
  {
   "cell_type": "markdown",
   "id": "6c1fc4a2",
   "metadata": {},
   "source": [
    "We specify the daily donate scale which: \n",
    "* 0-1000 : 1\n",
    "* 1000-3000 : 2\n",
    "* 3000-5000 : 3\n",
    "* 5000-10000 : 4\n",
    "* 10000 up : 5"
   ]
  },
  {
   "cell_type": "markdown",
   "id": "ceba22a4",
   "metadata": {},
   "source": [
    "We specify the chat/sec scale which: \n",
    "* < 1 : 1\n",
    "* 1-1.5 : 2\n",
    "* 1.5-2 : 3\n",
    "* 2-3 : 4\n",
    "* 3 up : 5"
   ]
  },
  {
   "cell_type": "markdown",
   "id": "0f3533e8",
   "metadata": {},
   "source": [
    "We start from workday."
   ]
  },
  {
   "cell_type": "code",
   "execution_count": 12,
   "id": "d9c7dc30",
   "metadata": {},
   "outputs": [],
   "source": [
    "rng = np.random.default_rng(32)"
   ]
  },
  {
   "cell_type": "code",
   "execution_count": 3,
   "id": "2c0138ba",
   "metadata": {},
   "outputs": [],
   "source": [
    "df = pd.DataFrame(\n",
    "{'StreamerID': range(1,101)}\n",
    ")"
   ]
  },
  {
   "cell_type": "code",
   "execution_count": 5,
   "id": "bee45995",
   "metadata": {},
   "outputs": [],
   "source": [
    "arr = np.array([1] * 50 + [2] * 30 + [3] * 10 + [4] * 8 + [5] * 2)\n",
    "np.random.shuffle(arr)"
   ]
  },
  {
   "cell_type": "code",
   "execution_count": 6,
   "id": "8464e341",
   "metadata": {},
   "outputs": [],
   "source": [
    "df['Scale'] = arr"
   ]
  },
  {
   "cell_type": "code",
   "execution_count": 9,
   "id": "30246ae6",
   "metadata": {},
   "outputs": [],
   "source": [
    "arr_start = np.array(['Morning'] * 10 + ['Afternoon'] * 20 + ['Night'] * 50 + ['Midnight'] * 20)\n",
    "np.random.shuffle(arr_start)"
   ]
  },
  {
   "cell_type": "code",
   "execution_count": 10,
   "id": "44b703ee",
   "metadata": {},
   "outputs": [],
   "source": [
    "df['Start_Time'] = arr_start"
   ]
  },
  {
   "cell_type": "code",
   "execution_count": 13,
   "id": "7e59fb19",
   "metadata": {},
   "outputs": [],
   "source": [
    "df['Duration'] = rng.choice(12, 100, replace=True)+1"
   ]
  },
  {
   "cell_type": "code",
   "execution_count": 17,
   "id": "d113a963",
   "metadata": {},
   "outputs": [],
   "source": [
    "arr_donate = np.array([1] * 40 + [2] * 30 + [3] * 20 + [4] * 6 + [5] * 4)\n",
    "np.random.shuffle(arr_donate)"
   ]
  },
  {
   "cell_type": "code",
   "execution_count": 18,
   "id": "c50d0646",
   "metadata": {},
   "outputs": [],
   "source": [
    "df['Donate_Scale'] = arr_donate"
   ]
  },
  {
   "cell_type": "code",
   "execution_count": 20,
   "id": "6dee3a38",
   "metadata": {},
   "outputs": [],
   "source": [
    "arr_chat = np.array([1] * 30 + [2] * 30 + [3] * 25 + [4] * 10 + [5] * 5)\n",
    "np.random.shuffle(arr_chat)"
   ]
  },
  {
   "cell_type": "code",
   "execution_count": 21,
   "id": "30941dda",
   "metadata": {},
   "outputs": [],
   "source": [
    "df['Chat/Sec'] = arr_chat"
   ]
  },
  {
   "cell_type": "code",
   "execution_count": 24,
   "id": "08587369",
   "metadata": {},
   "outputs": [
    {
     "data": {
      "text/html": [
       "<div>\n",
       "<style scoped>\n",
       "    .dataframe tbody tr th:only-of-type {\n",
       "        vertical-align: middle;\n",
       "    }\n",
       "\n",
       "    .dataframe tbody tr th {\n",
       "        vertical-align: top;\n",
       "    }\n",
       "\n",
       "    .dataframe thead th {\n",
       "        text-align: right;\n",
       "    }\n",
       "</style>\n",
       "<table border=\"1\" class=\"dataframe\">\n",
       "  <thead>\n",
       "    <tr style=\"text-align: right;\">\n",
       "      <th></th>\n",
       "      <th>Scale</th>\n",
       "      <th>Start_Time</th>\n",
       "      <th>Duration</th>\n",
       "      <th>Donate_Scale</th>\n",
       "      <th>Chat/Sec</th>\n",
       "    </tr>\n",
       "    <tr>\n",
       "      <th>StreamerID</th>\n",
       "      <th></th>\n",
       "      <th></th>\n",
       "      <th></th>\n",
       "      <th></th>\n",
       "      <th></th>\n",
       "    </tr>\n",
       "  </thead>\n",
       "  <tbody>\n",
       "    <tr>\n",
       "      <th>1</th>\n",
       "      <td>1</td>\n",
       "      <td>Afternoon</td>\n",
       "      <td>11</td>\n",
       "      <td>2</td>\n",
       "      <td>1</td>\n",
       "    </tr>\n",
       "    <tr>\n",
       "      <th>2</th>\n",
       "      <td>1</td>\n",
       "      <td>Afternoon</td>\n",
       "      <td>2</td>\n",
       "      <td>3</td>\n",
       "      <td>5</td>\n",
       "    </tr>\n",
       "    <tr>\n",
       "      <th>3</th>\n",
       "      <td>2</td>\n",
       "      <td>Afternoon</td>\n",
       "      <td>11</td>\n",
       "      <td>2</td>\n",
       "      <td>3</td>\n",
       "    </tr>\n",
       "    <tr>\n",
       "      <th>4</th>\n",
       "      <td>1</td>\n",
       "      <td>Night</td>\n",
       "      <td>7</td>\n",
       "      <td>4</td>\n",
       "      <td>2</td>\n",
       "    </tr>\n",
       "    <tr>\n",
       "      <th>5</th>\n",
       "      <td>1</td>\n",
       "      <td>Afternoon</td>\n",
       "      <td>6</td>\n",
       "      <td>2</td>\n",
       "      <td>1</td>\n",
       "    </tr>\n",
       "    <tr>\n",
       "      <th>...</th>\n",
       "      <td>...</td>\n",
       "      <td>...</td>\n",
       "      <td>...</td>\n",
       "      <td>...</td>\n",
       "      <td>...</td>\n",
       "    </tr>\n",
       "    <tr>\n",
       "      <th>96</th>\n",
       "      <td>1</td>\n",
       "      <td>Midnight</td>\n",
       "      <td>4</td>\n",
       "      <td>2</td>\n",
       "      <td>3</td>\n",
       "    </tr>\n",
       "    <tr>\n",
       "      <th>97</th>\n",
       "      <td>1</td>\n",
       "      <td>Morning</td>\n",
       "      <td>6</td>\n",
       "      <td>1</td>\n",
       "      <td>3</td>\n",
       "    </tr>\n",
       "    <tr>\n",
       "      <th>98</th>\n",
       "      <td>4</td>\n",
       "      <td>Night</td>\n",
       "      <td>7</td>\n",
       "      <td>1</td>\n",
       "      <td>2</td>\n",
       "    </tr>\n",
       "    <tr>\n",
       "      <th>99</th>\n",
       "      <td>3</td>\n",
       "      <td>Night</td>\n",
       "      <td>3</td>\n",
       "      <td>2</td>\n",
       "      <td>4</td>\n",
       "    </tr>\n",
       "    <tr>\n",
       "      <th>100</th>\n",
       "      <td>1</td>\n",
       "      <td>Night</td>\n",
       "      <td>12</td>\n",
       "      <td>1</td>\n",
       "      <td>2</td>\n",
       "    </tr>\n",
       "  </tbody>\n",
       "</table>\n",
       "<p>100 rows × 5 columns</p>\n",
       "</div>"
      ],
      "text/plain": [
       "            Scale Start_Time  Duration  Donate_Scale  Chat/Sec\n",
       "StreamerID                                                    \n",
       "1               1  Afternoon        11             2         1\n",
       "2               1  Afternoon         2             3         5\n",
       "3               2  Afternoon        11             2         3\n",
       "4               1      Night         7             4         2\n",
       "5               1  Afternoon         6             2         1\n",
       "...           ...        ...       ...           ...       ...\n",
       "96              1   Midnight         4             2         3\n",
       "97              1    Morning         6             1         3\n",
       "98              4      Night         7             1         2\n",
       "99              3      Night         3             2         4\n",
       "100             1      Night        12             1         2\n",
       "\n",
       "[100 rows x 5 columns]"
      ]
     },
     "execution_count": 24,
     "metadata": {},
     "output_type": "execute_result"
    }
   ],
   "source": [
    "df.set_index('StreamerID')"
   ]
  },
  {
   "cell_type": "markdown",
   "id": "d33e7e65",
   "metadata": {},
   "source": [
    "## What can we analyze with this data?"
   ]
  },
  {
   "cell_type": "code",
   "execution_count": 32,
   "id": "3bee5f98",
   "metadata": {},
   "outputs": [],
   "source": [
    "import matplotlib.pyplot as plt"
   ]
  },
  {
   "cell_type": "code",
   "execution_count": 51,
   "id": "a0cc0bed",
   "metadata": {},
   "outputs": [],
   "source": [
    "df_cross = pd.crosstab(df['Scale'],df['Start_Time'])"
   ]
  },
  {
   "cell_type": "code",
   "execution_count": 56,
   "id": "2adab220",
   "metadata": {},
   "outputs": [
    {
     "data": {
      "text/html": [
       "<div>\n",
       "<style scoped>\n",
       "    .dataframe tbody tr th:only-of-type {\n",
       "        vertical-align: middle;\n",
       "    }\n",
       "\n",
       "    .dataframe tbody tr th {\n",
       "        vertical-align: top;\n",
       "    }\n",
       "\n",
       "    .dataframe thead th {\n",
       "        text-align: right;\n",
       "    }\n",
       "</style>\n",
       "<table border=\"1\" class=\"dataframe\">\n",
       "  <thead>\n",
       "    <tr style=\"text-align: right;\">\n",
       "      <th>Start_Time</th>\n",
       "      <th>Afternoon</th>\n",
       "      <th>Midnight</th>\n",
       "      <th>Morning</th>\n",
       "      <th>Night</th>\n",
       "    </tr>\n",
       "    <tr>\n",
       "      <th>Scale</th>\n",
       "      <th></th>\n",
       "      <th></th>\n",
       "      <th></th>\n",
       "      <th></th>\n",
       "    </tr>\n",
       "  </thead>\n",
       "  <tbody>\n",
       "    <tr>\n",
       "      <th>1</th>\n",
       "      <td>12</td>\n",
       "      <td>12</td>\n",
       "      <td>5</td>\n",
       "      <td>21</td>\n",
       "    </tr>\n",
       "    <tr>\n",
       "      <th>2</th>\n",
       "      <td>6</td>\n",
       "      <td>5</td>\n",
       "      <td>0</td>\n",
       "      <td>19</td>\n",
       "    </tr>\n",
       "    <tr>\n",
       "      <th>3</th>\n",
       "      <td>1</td>\n",
       "      <td>1</td>\n",
       "      <td>3</td>\n",
       "      <td>5</td>\n",
       "    </tr>\n",
       "    <tr>\n",
       "      <th>4</th>\n",
       "      <td>1</td>\n",
       "      <td>1</td>\n",
       "      <td>1</td>\n",
       "      <td>5</td>\n",
       "    </tr>\n",
       "    <tr>\n",
       "      <th>5</th>\n",
       "      <td>0</td>\n",
       "      <td>1</td>\n",
       "      <td>1</td>\n",
       "      <td>0</td>\n",
       "    </tr>\n",
       "  </tbody>\n",
       "</table>\n",
       "</div>"
      ],
      "text/plain": [
       "Start_Time  Afternoon  Midnight  Morning  Night\n",
       "Scale                                          \n",
       "1                  12        12        5     21\n",
       "2                   6         5        0     19\n",
       "3                   1         1        3      5\n",
       "4                   1         1        1      5\n",
       "5                   0         1        1      0"
      ]
     },
     "execution_count": 56,
     "metadata": {},
     "output_type": "execute_result"
    }
   ],
   "source": [
    "df_cross"
   ]
  },
  {
   "cell_type": "code",
   "execution_count": 60,
   "id": "1c85def9",
   "metadata": {},
   "outputs": [
    {
     "data": {
      "image/png": "[encoded data removed]",
      "text/plain": [
       "<Figure size 1080x504 with 4 Axes>"
      ]
     },
     "metadata": {},
     "output_type": "display_data"
    }
   ],
   "source": [
    "df_cross.plot(\n",
    "    kind='pie',\n",
    "    title=\"Scale in Each Start Time\",\n",
    "    figsize=(15, 7),\n",
    "    legend = False,\n",
    "    startangle=90,\n",
    "    subplots=True,\n",
    "    autopct=lambda x: '%0.1f%%' % x\n",
    ")\n",
    "plt.tight_layout()\n",
    "plt.show()"
   ]
  },
  {
   "cell_type": "markdown",
   "id": "5ddc2f47",
   "metadata": {},
   "source": [
    "## Short Conclusion:\n",
    "* In the morning, there are high percentage of large scale streamers (4-5).\n",
    "* At night, there are lowest percentage of little scale streamers(1).\n",
    "* At midnight and in the morning, there are lowest percentage of middle scale streamers(2-3).\n",
    "* In the afternoon and at night, there are lowest percentage of largest scale streamers(5)."
   ]
  },
  {
   "cell_type": "markdown",
   "id": "ab04ca5b",
   "metadata": {},
   "source": [
    "## Question: When do you choose to start stream?"
   ]
  },
  {
   "cell_type": "markdown",
   "id": "4b05dcc2",
   "metadata": {},
   "source": [
    "1. For little scale streamers, they should keep away from the time when there are more large scale streamers.\n",
    "    In this case, Afternnon and night is a better choice.\n",
    "\n",
    "2. For middle scale streamers, they can choose to stream at the time when there are few middle or large scale streamers.\n",
    "    In this case, Afternoon and midnight is a better choice.\n",
    "\n",
    "3. For large scale streamers, they can ignore the time and choose to stream when there are most users using the stream app or website."
   ]
  },
  {
   "cell_type": "markdown",
   "id": "729e55dd",
   "metadata": {},
   "source": [
    "## Question: Does streaming longer bring more viewers?"
   ]
  },
  {
   "cell_type": "code",
   "execution_count": 61,
   "id": "e9dc42c9",
   "metadata": {},
   "outputs": [
    {
     "data": {
      "text/html": [
       "<div>\n",
       "<style scoped>\n",
       "    .dataframe tbody tr th:only-of-type {\n",
       "        vertical-align: middle;\n",
       "    }\n",
       "\n",
       "    .dataframe tbody tr th {\n",
       "        vertical-align: top;\n",
       "    }\n",
       "\n",
       "    .dataframe thead th {\n",
       "        text-align: right;\n",
       "    }\n",
       "</style>\n",
       "<table border=\"1\" class=\"dataframe\">\n",
       "  <thead>\n",
       "    <tr style=\"text-align: right;\">\n",
       "      <th>Duration</th>\n",
       "      <th>1</th>\n",
       "      <th>2</th>\n",
       "      <th>3</th>\n",
       "      <th>4</th>\n",
       "      <th>5</th>\n",
       "      <th>6</th>\n",
       "      <th>7</th>\n",
       "      <th>8</th>\n",
       "      <th>9</th>\n",
       "      <th>10</th>\n",
       "      <th>11</th>\n",
       "      <th>12</th>\n",
       "    </tr>\n",
       "    <tr>\n",
       "      <th>Scale</th>\n",
       "      <th></th>\n",
       "      <th></th>\n",
       "      <th></th>\n",
       "      <th></th>\n",
       "      <th></th>\n",
       "      <th></th>\n",
       "      <th></th>\n",
       "      <th></th>\n",
       "      <th></th>\n",
       "      <th></th>\n",
       "      <th></th>\n",
       "      <th></th>\n",
       "    </tr>\n",
       "  </thead>\n",
       "  <tbody>\n",
       "    <tr>\n",
       "      <th>1</th>\n",
       "      <td>2</td>\n",
       "      <td>6</td>\n",
       "      <td>2</td>\n",
       "      <td>6</td>\n",
       "      <td>4</td>\n",
       "      <td>5</td>\n",
       "      <td>5</td>\n",
       "      <td>4</td>\n",
       "      <td>5</td>\n",
       "      <td>2</td>\n",
       "      <td>3</td>\n",
       "      <td>6</td>\n",
       "    </tr>\n",
       "    <tr>\n",
       "      <th>2</th>\n",
       "      <td>3</td>\n",
       "      <td>3</td>\n",
       "      <td>1</td>\n",
       "      <td>1</td>\n",
       "      <td>2</td>\n",
       "      <td>2</td>\n",
       "      <td>2</td>\n",
       "      <td>6</td>\n",
       "      <td>2</td>\n",
       "      <td>3</td>\n",
       "      <td>4</td>\n",
       "      <td>1</td>\n",
       "    </tr>\n",
       "    <tr>\n",
       "      <th>3</th>\n",
       "      <td>0</td>\n",
       "      <td>0</td>\n",
       "      <td>2</td>\n",
       "      <td>1</td>\n",
       "      <td>1</td>\n",
       "      <td>2</td>\n",
       "      <td>0</td>\n",
       "      <td>2</td>\n",
       "      <td>0</td>\n",
       "      <td>0</td>\n",
       "      <td>0</td>\n",
       "      <td>2</td>\n",
       "    </tr>\n",
       "    <tr>\n",
       "      <th>4</th>\n",
       "      <td>1</td>\n",
       "      <td>2</td>\n",
       "      <td>0</td>\n",
       "      <td>1</td>\n",
       "      <td>0</td>\n",
       "      <td>0</td>\n",
       "      <td>2</td>\n",
       "      <td>1</td>\n",
       "      <td>0</td>\n",
       "      <td>0</td>\n",
       "      <td>1</td>\n",
       "      <td>0</td>\n",
       "    </tr>\n",
       "    <tr>\n",
       "      <th>5</th>\n",
       "      <td>0</td>\n",
       "      <td>0</td>\n",
       "      <td>0</td>\n",
       "      <td>1</td>\n",
       "      <td>1</td>\n",
       "      <td>0</td>\n",
       "      <td>0</td>\n",
       "      <td>0</td>\n",
       "      <td>0</td>\n",
       "      <td>0</td>\n",
       "      <td>0</td>\n",
       "      <td>0</td>\n",
       "    </tr>\n",
       "  </tbody>\n",
       "</table>\n",
       "</div>"
      ],
      "text/plain": [
       "Duration  1   2   3   4   5   6   7   8   9   10  11  12\n",
       "Scale                                                   \n",
       "1          2   6   2   6   4   5   5   4   5   2   3   6\n",
       "2          3   3   1   1   2   2   2   6   2   3   4   1\n",
       "3          0   0   2   1   1   2   0   2   0   0   0   2\n",
       "4          1   2   0   1   0   0   2   1   0   0   1   0\n",
       "5          0   0   0   1   1   0   0   0   0   0   0   0"
      ]
     },
     "execution_count": 61,
     "metadata": {},
     "output_type": "execute_result"
    }
   ],
   "source": [
    "pd.crosstab(df['Scale'],df['Duration'])"
   ]
  },
  {
   "cell_type": "markdown",
   "id": "3d641710",
   "metadata": {},
   "source": [
    "## Ans: In this data, no."
   ]
  },
  {
   "cell_type": "code",
   "execution_count": null,
   "id": "c71f4612",
   "metadata": {},
   "outputs": [],
   "source": []
  },
  {
   "cell_type": "markdown",
   "id": "eb6a877b",
   "metadata": {},
   "source": [
    "Since donate and chat/sec are more related to streamer type and hence not resonable to view them in a general view."
   ]
  },
  {
   "cell_type": "markdown",
   "id": "360360bf",
   "metadata": {},
   "source": [
    "We next consider the time change of this data: \n",
    "\n",
    "* Add holiday data\n",
    "* Add data after holiday."
   ]
  },
  {
   "cell_type": "markdown",
   "id": "f5b4f30a",
   "metadata": {},
   "source": [
    "## Why consider holiday?"
   ]
  },
  {
   "cell_type": "markdown",
   "id": "97a91609",
   "metadata": {},
   "source": [
    "Since there may be some users that only shows up in holiday and not in workdays, there may be fluctuate in each variable.\\\n",
    "And the most important part is **this fluctuation may be a 1-time event** and hence we can not view it as regular."
   ]
  },
  {
   "cell_type": "markdown",
   "id": "ddc63942",
   "metadata": {},
   "source": [
    "To make things simple, we assume that the start time of streams remain unchanged."
   ]
  },
  {
   "cell_type": "code",
   "execution_count": 84,
   "id": "9d65526a",
   "metadata": {},
   "outputs": [],
   "source": [
    "temp = np.array([1] * 40 + [2] * 25 + [3] * 20 + [4] * 10 + [5] * 5)\n",
    "np.random.shuffle(temp)\n",
    "df['Scale_holi'] = temp\n",
    "\n",
    "temp = np.array([1] * 50 + [2] * 30 + [3] * 10 + [4] * 8 + [5] * 2)\n",
    "np.random.shuffle(temp)\n",
    "df['Scale_after_holi'] = temp\n",
    "\n",
    "df['Duration_holi'] = rng.choice(12, 100, replace=True)+1\n",
    "df['Duration_after_holi'] = rng.choice(12, 100, replace=True)+1\n",
    "\n",
    "temp = np.array([1] * 30 + [2] * 20 + [3] * 30 + [4] * 12 + [5] * 8)\n",
    "np.random.shuffle(temp)\n",
    "df['Donate_Scale_holi'] = temp\n",
    "\n",
    "temp = np.array([1] * 40 + [2] * 30 + [3] * 20 + [4] * 6 + [5] * 4)\n",
    "np.random.shuffle(temp)\n",
    "df['Donate_Scale_after_holi'] = temp\n",
    "\n",
    "temp = np.array([1] * 30 + [2] * 20 + [3] * 35 + [4] * 10 + [5] * 5)\n",
    "np.random.shuffle(temp)\n",
    "df['Chat/Sec_holi'] = temp\n",
    "\n",
    "temp = np.array([1] * 40 + [2] * 30 + [3] * 20 + [4] * 6 + [5] * 4)\n",
    "np.random.shuffle(temp)\n",
    "df['Chat/Sec_after_holi'] = temp"
   ]
  },
  {
   "cell_type": "code",
   "execution_count": 85,
   "id": "590c0dbe",
   "metadata": {},
   "outputs": [
    {
     "data": {
      "text/html": [
       "<div>\n",
       "<style scoped>\n",
       "    .dataframe tbody tr th:only-of-type {\n",
       "        vertical-align: middle;\n",
       "    }\n",
       "\n",
       "    .dataframe tbody tr th {\n",
       "        vertical-align: top;\n",
       "    }\n",
       "\n",
       "    .dataframe thead th {\n",
       "        text-align: right;\n",
       "    }\n",
       "</style>\n",
       "<table border=\"1\" class=\"dataframe\">\n",
       "  <thead>\n",
       "    <tr style=\"text-align: right;\">\n",
       "      <th></th>\n",
       "      <th>StreamerID</th>\n",
       "      <th>Scale</th>\n",
       "      <th>Start_Time</th>\n",
       "      <th>Duration</th>\n",
       "      <th>Donate_Scale</th>\n",
       "      <th>Chat/Sec</th>\n",
       "      <th>Scale_holi</th>\n",
       "      <th>Scale_after_holi</th>\n",
       "      <th>Duration_holi</th>\n",
       "      <th>Duration_after_holi</th>\n",
       "      <th>Donate_Scale_holi</th>\n",
       "      <th>Donate_Scale_after_holi</th>\n",
       "      <th>Chat/Sec_holi</th>\n",
       "      <th>Chat/Sec_after_holi</th>\n",
       "    </tr>\n",
       "  </thead>\n",
       "  <tbody>\n",
       "    <tr>\n",
       "      <th>0</th>\n",
       "      <td>1</td>\n",
       "      <td>1</td>\n",
       "      <td>Afternoon</td>\n",
       "      <td>11</td>\n",
       "      <td>2</td>\n",
       "      <td>1</td>\n",
       "      <td>2</td>\n",
       "      <td>1</td>\n",
       "      <td>8</td>\n",
       "      <td>3</td>\n",
       "      <td>1</td>\n",
       "      <td>3</td>\n",
       "      <td>1</td>\n",
       "      <td>2</td>\n",
       "    </tr>\n",
       "    <tr>\n",
       "      <th>1</th>\n",
       "      <td>2</td>\n",
       "      <td>1</td>\n",
       "      <td>Afternoon</td>\n",
       "      <td>2</td>\n",
       "      <td>3</td>\n",
       "      <td>5</td>\n",
       "      <td>3</td>\n",
       "      <td>3</td>\n",
       "      <td>3</td>\n",
       "      <td>6</td>\n",
       "      <td>4</td>\n",
       "      <td>3</td>\n",
       "      <td>3</td>\n",
       "      <td>2</td>\n",
       "    </tr>\n",
       "    <tr>\n",
       "      <th>2</th>\n",
       "      <td>3</td>\n",
       "      <td>2</td>\n",
       "      <td>Afternoon</td>\n",
       "      <td>11</td>\n",
       "      <td>2</td>\n",
       "      <td>3</td>\n",
       "      <td>1</td>\n",
       "      <td>1</td>\n",
       "      <td>3</td>\n",
       "      <td>2</td>\n",
       "      <td>5</td>\n",
       "      <td>1</td>\n",
       "      <td>2</td>\n",
       "      <td>1</td>\n",
       "    </tr>\n",
       "    <tr>\n",
       "      <th>3</th>\n",
       "      <td>4</td>\n",
       "      <td>1</td>\n",
       "      <td>Night</td>\n",
       "      <td>7</td>\n",
       "      <td>4</td>\n",
       "      <td>2</td>\n",
       "      <td>1</td>\n",
       "      <td>3</td>\n",
       "      <td>9</td>\n",
       "      <td>11</td>\n",
       "      <td>3</td>\n",
       "      <td>1</td>\n",
       "      <td>3</td>\n",
       "      <td>1</td>\n",
       "    </tr>\n",
       "    <tr>\n",
       "      <th>4</th>\n",
       "      <td>5</td>\n",
       "      <td>1</td>\n",
       "      <td>Afternoon</td>\n",
       "      <td>6</td>\n",
       "      <td>2</td>\n",
       "      <td>1</td>\n",
       "      <td>5</td>\n",
       "      <td>2</td>\n",
       "      <td>6</td>\n",
       "      <td>6</td>\n",
       "      <td>1</td>\n",
       "      <td>2</td>\n",
       "      <td>1</td>\n",
       "      <td>1</td>\n",
       "    </tr>\n",
       "    <tr>\n",
       "      <th>...</th>\n",
       "      <td>...</td>\n",
       "      <td>...</td>\n",
       "      <td>...</td>\n",
       "      <td>...</td>\n",
       "      <td>...</td>\n",
       "      <td>...</td>\n",
       "      <td>...</td>\n",
       "      <td>...</td>\n",
       "      <td>...</td>\n",
       "      <td>...</td>\n",
       "      <td>...</td>\n",
       "      <td>...</td>\n",
       "      <td>...</td>\n",
       "      <td>...</td>\n",
       "    </tr>\n",
       "    <tr>\n",
       "      <th>95</th>\n",
       "      <td>96</td>\n",
       "      <td>1</td>\n",
       "      <td>Midnight</td>\n",
       "      <td>4</td>\n",
       "      <td>2</td>\n",
       "      <td>3</td>\n",
       "      <td>1</td>\n",
       "      <td>2</td>\n",
       "      <td>6</td>\n",
       "      <td>1</td>\n",
       "      <td>3</td>\n",
       "      <td>1</td>\n",
       "      <td>3</td>\n",
       "      <td>2</td>\n",
       "    </tr>\n",
       "    <tr>\n",
       "      <th>96</th>\n",
       "      <td>97</td>\n",
       "      <td>1</td>\n",
       "      <td>Morning</td>\n",
       "      <td>6</td>\n",
       "      <td>1</td>\n",
       "      <td>3</td>\n",
       "      <td>3</td>\n",
       "      <td>2</td>\n",
       "      <td>7</td>\n",
       "      <td>3</td>\n",
       "      <td>1</td>\n",
       "      <td>2</td>\n",
       "      <td>3</td>\n",
       "      <td>2</td>\n",
       "    </tr>\n",
       "    <tr>\n",
       "      <th>97</th>\n",
       "      <td>98</td>\n",
       "      <td>4</td>\n",
       "      <td>Night</td>\n",
       "      <td>7</td>\n",
       "      <td>1</td>\n",
       "      <td>2</td>\n",
       "      <td>2</td>\n",
       "      <td>1</td>\n",
       "      <td>9</td>\n",
       "      <td>5</td>\n",
       "      <td>3</td>\n",
       "      <td>1</td>\n",
       "      <td>1</td>\n",
       "      <td>1</td>\n",
       "    </tr>\n",
       "    <tr>\n",
       "      <th>98</th>\n",
       "      <td>99</td>\n",
       "      <td>3</td>\n",
       "      <td>Night</td>\n",
       "      <td>3</td>\n",
       "      <td>2</td>\n",
       "      <td>4</td>\n",
       "      <td>3</td>\n",
       "      <td>1</td>\n",
       "      <td>9</td>\n",
       "      <td>5</td>\n",
       "      <td>3</td>\n",
       "      <td>1</td>\n",
       "      <td>3</td>\n",
       "      <td>2</td>\n",
       "    </tr>\n",
       "    <tr>\n",
       "      <th>99</th>\n",
       "      <td>100</td>\n",
       "      <td>1</td>\n",
       "      <td>Night</td>\n",
       "      <td>12</td>\n",
       "      <td>1</td>\n",
       "      <td>2</td>\n",
       "      <td>3</td>\n",
       "      <td>3</td>\n",
       "      <td>2</td>\n",
       "      <td>1</td>\n",
       "      <td>2</td>\n",
       "      <td>3</td>\n",
       "      <td>3</td>\n",
       "      <td>1</td>\n",
       "    </tr>\n",
       "  </tbody>\n",
       "</table>\n",
       "<p>100 rows × 14 columns</p>\n",
       "</div>"
      ],
      "text/plain": [
       "    StreamerID  Scale Start_Time  Duration  Donate_Scale  Chat/Sec  \\\n",
       "0            1      1  Afternoon        11             2         1   \n",
       "1            2      1  Afternoon         2             3         5   \n",
       "2            3      2  Afternoon        11             2         3   \n",
       "3            4      1      Night         7             4         2   \n",
       "4            5      1  Afternoon         6             2         1   \n",
       "..         ...    ...        ...       ...           ...       ...   \n",
       "95          96      1   Midnight         4             2         3   \n",
       "96          97      1    Morning         6             1         3   \n",
       "97          98      4      Night         7             1         2   \n",
       "98          99      3      Night         3             2         4   \n",
       "99         100      1      Night        12             1         2   \n",
       "\n",
       "    Scale_holi  Scale_after_holi  Duration_holi  Duration_after_holi  \\\n",
       "0            2                 1              8                    3   \n",
       "1            3                 3              3                    6   \n",
       "2            1                 1              3                    2   \n",
       "3            1                 3              9                   11   \n",
       "4            5                 2              6                    6   \n",
       "..         ...               ...            ...                  ...   \n",
       "95           1                 2              6                    1   \n",
       "96           3                 2              7                    3   \n",
       "97           2                 1              9                    5   \n",
       "98           3                 1              9                    5   \n",
       "99           3                 3              2                    1   \n",
       "\n",
       "    Donate_Scale_holi  Donate_Scale_after_holi  Chat/Sec_holi  \\\n",
       "0                   1                        3              1   \n",
       "1                   4                        3              3   \n",
       "2                   5                        1              2   \n",
       "3                   3                        1              3   \n",
       "4                   1                        2              1   \n",
       "..                ...                      ...            ...   \n",
       "95                  3                        1              3   \n",
       "96                  1                        2              3   \n",
       "97                  3                        1              1   \n",
       "98                  3                        1              3   \n",
       "99                  2                        3              3   \n",
       "\n",
       "    Chat/Sec_after_holi  \n",
       "0                     2  \n",
       "1                     2  \n",
       "2                     1  \n",
       "3                     1  \n",
       "4                     1  \n",
       "..                  ...  \n",
       "95                    2  \n",
       "96                    2  \n",
       "97                    1  \n",
       "98                    2  \n",
       "99                    1  \n",
       "\n",
       "[100 rows x 14 columns]"
      ]
     },
     "execution_count": 85,
     "metadata": {},
     "output_type": "execute_result"
    }
   ],
   "source": [
    "df"
   ]
  },
  {
   "cell_type": "markdown",
   "id": "b9d23b30",
   "metadata": {},
   "source": [
    "## The streamer with more viewers in holiday"
   ]
  },
  {
   "cell_type": "code",
   "execution_count": 86,
   "id": "d6244606",
   "metadata": {},
   "outputs": [],
   "source": [
    "df_more_view = df[df['Scale_holi'] > df['Scale']] # More viewers means increasing at least 1 scale."
   ]
  },
  {
   "cell_type": "code",
   "execution_count": 95,
   "id": "f1a05864",
   "metadata": {},
   "outputs": [
    {
     "data": {
      "text/plain": [
       "<AxesSubplot:ylabel='Start_Time'>"
      ]
     },
     "execution_count": 95,
     "metadata": {},
     "output_type": "execute_result"
    },
    {
     "data": {
      "image/png": "[encoded data removed]",
      "text/plain": [
       "<Figure size 432x288 with 1 Axes>"
      ]
     },
     "metadata": {},
     "output_type": "display_data"
    }
   ],
   "source": [
    "df_more_view['Start_Time'].value_counts().plot(kind = 'pie',autopct=lambda x: '%0.1f%%' % x)"
   ]
  },
  {
   "cell_type": "markdown",
   "id": "787adeaa",
   "metadata": {},
   "source": [
    "Streamers with more viewers in holiday are most streamed at night, second in the afternoon."
   ]
  },
  {
   "cell_type": "code",
   "execution_count": 97,
   "id": "579c529b",
   "metadata": {},
   "outputs": [
    {
     "data": {
      "text/html": [
       "<div>\n",
       "<style scoped>\n",
       "    .dataframe tbody tr th:only-of-type {\n",
       "        vertical-align: middle;\n",
       "    }\n",
       "\n",
       "    .dataframe tbody tr th {\n",
       "        vertical-align: top;\n",
       "    }\n",
       "\n",
       "    .dataframe thead th {\n",
       "        text-align: right;\n",
       "    }\n",
       "</style>\n",
       "<table border=\"1\" class=\"dataframe\">\n",
       "  <thead>\n",
       "    <tr style=\"text-align: right;\">\n",
       "      <th></th>\n",
       "      <th>Duration</th>\n",
       "      <th>Duration_holi</th>\n",
       "    </tr>\n",
       "  </thead>\n",
       "  <tbody>\n",
       "    <tr>\n",
       "      <th>count</th>\n",
       "      <td>41.000000</td>\n",
       "      <td>41.000000</td>\n",
       "    </tr>\n",
       "    <tr>\n",
       "      <th>mean</th>\n",
       "      <td>6.829268</td>\n",
       "      <td>6.390244</td>\n",
       "    </tr>\n",
       "    <tr>\n",
       "      <th>std</th>\n",
       "      <td>3.527764</td>\n",
       "      <td>3.338248</td>\n",
       "    </tr>\n",
       "    <tr>\n",
       "      <th>min</th>\n",
       "      <td>1.000000</td>\n",
       "      <td>1.000000</td>\n",
       "    </tr>\n",
       "    <tr>\n",
       "      <th>25%</th>\n",
       "      <td>4.000000</td>\n",
       "      <td>3.000000</td>\n",
       "    </tr>\n",
       "    <tr>\n",
       "      <th>50%</th>\n",
       "      <td>6.000000</td>\n",
       "      <td>7.000000</td>\n",
       "    </tr>\n",
       "    <tr>\n",
       "      <th>75%</th>\n",
       "      <td>9.000000</td>\n",
       "      <td>9.000000</td>\n",
       "    </tr>\n",
       "    <tr>\n",
       "      <th>max</th>\n",
       "      <td>12.000000</td>\n",
       "      <td>12.000000</td>\n",
       "    </tr>\n",
       "  </tbody>\n",
       "</table>\n",
       "</div>"
      ],
      "text/plain": [
       "        Duration  Duration_holi\n",
       "count  41.000000      41.000000\n",
       "mean    6.829268       6.390244\n",
       "std     3.527764       3.338248\n",
       "min     1.000000       1.000000\n",
       "25%     4.000000       3.000000\n",
       "50%     6.000000       7.000000\n",
       "75%     9.000000       9.000000\n",
       "max    12.000000      12.000000"
      ]
     },
     "execution_count": 97,
     "metadata": {},
     "output_type": "execute_result"
    }
   ],
   "source": [
    "df_more_view[['Duration','Duration_holi']].describe()"
   ]
  },
  {
   "cell_type": "code",
   "execution_count": 106,
   "id": "e716262a",
   "metadata": {},
   "outputs": [
    {
     "data": {
      "text/plain": [
       "<AxesSubplot:ylabel='Donate_Scale_after_holi'>"
      ]
     },
     "execution_count": 106,
     "metadata": {},
     "output_type": "execute_result"
    },
    {
     "data": {
      "image/png": "[encoded data removed]",
      "text/plain": [
       "<Figure size 1080x504 with 3 Axes>"
      ]
     },
     "metadata": {},
     "output_type": "display_data"
    }
   ],
   "source": [
    "fig, axes = plt.subplots(nrows=1, ncols=3)\n",
    "\n",
    "df_more_view['Donate_Scale'].value_counts().plot(ax = axes[0], kind = 'pie',figsize=(15, 7),autopct=lambda x: '%0.1f%%' % x)\n",
    "df_more_view['Donate_Scale_holi'].value_counts().plot(ax = axes[1],kind = 'pie',figsize=(15, 7),autopct=lambda x: '%0.1f%%' % x)\n",
    "df_more_view['Donate_Scale_after_holi'].value_counts().plot(ax = axes[2],kind = 'pie',figsize=(15, 7),autopct=lambda x: '%0.1f%%' % x)"
   ]
  },
  {
   "cell_type": "code",
   "execution_count": 109,
   "id": "abfb659c",
   "metadata": {},
   "outputs": [
    {
     "data": {
      "text/plain": [
       "<AxesSubplot:ylabel='Chat/Sec_after_holi'>"
      ]
     },
     "execution_count": 109,
     "metadata": {},
     "output_type": "execute_result"
    },
    {
     "data": {
      "image/png": "[encoded data removed]",
      "text/plain": [
       "<Figure size 1080x504 with 3 Axes>"
      ]
     },
     "metadata": {},
     "output_type": "display_data"
    }
   ],
   "source": [
    "fig, axes = plt.subplots(nrows=1, ncols=3)\n",
    "\n",
    "df_more_view['Chat/Sec'].value_counts().plot(ax = axes[0], kind = 'pie',figsize=(15, 7),autopct=lambda x: '%0.1f%%' % x)\n",
    "df_more_view['Chat/Sec_holi'].value_counts().plot(ax = axes[1],kind = 'pie',figsize=(15, 7),autopct=lambda x: '%0.1f%%' % x)\n",
    "df_more_view['Chat/Sec_after_holi'].value_counts().plot(ax = axes[2],kind = 'pie',figsize=(15, 7),autopct=lambda x: '%0.1f%%' % x)"
   ]
  },
  {
   "cell_type": "markdown",
   "id": "892fa48a",
   "metadata": {},
   "source": [
    "Some Observations:"
   ]
  },
  {
   "cell_type": "code",
   "execution_count": 110,
   "id": "642785a7",
   "metadata": {},
   "outputs": [
    {
     "data": {
      "text/plain": [
       "0.41"
      ]
     },
     "execution_count": 110,
     "metadata": {},
     "output_type": "execute_result"
    }
   ],
   "source": [
    "(df_more_view['Scale'].count())/len(df)"
   ]
  },
  {
   "cell_type": "markdown",
   "id": "16aad473",
   "metadata": {},
   "source": [
    "There are 41% streamers have more viewers in holiday."
   ]
  },
  {
   "cell_type": "code",
   "execution_count": 112,
   "id": "ea2613ca",
   "metadata": {},
   "outputs": [
    {
     "data": {
      "text/plain": [
       "0.24390243902439024"
      ]
     },
     "execution_count": 112,
     "metadata": {},
     "output_type": "execute_result"
    }
   ],
   "source": [
    "len(df_more_view[df_more_view['Scale_after_holi']>= df_more_view['Scale_holi']])/len(df_more_view)"
   ]
  },
  {
   "cell_type": "markdown",
   "id": "a396de44",
   "metadata": {},
   "source": [
    "In this 41% streamers, there are 24% streamers can retain their viewers after holiday."
   ]
  },
  {
   "cell_type": "code",
   "execution_count": 113,
   "id": "39b58eb0",
   "metadata": {},
   "outputs": [
    {
     "data": {
      "text/plain": [
       "0.6585365853658537"
      ]
     },
     "execution_count": 113,
     "metadata": {},
     "output_type": "execute_result"
    }
   ],
   "source": [
    "len(df_more_view[df_more_view['Donate_Scale_holi']>= df_more_view['Donate_Scale']])/len(df_more_view)"
   ]
  },
  {
   "cell_type": "markdown",
   "id": "55118578",
   "metadata": {},
   "source": [
    "In this 41% streamers, there are 65.9% streamers earn more donate in holiday."
   ]
  },
  {
   "cell_type": "code",
   "execution_count": 114,
   "id": "5e34d4e1",
   "metadata": {},
   "outputs": [
    {
     "data": {
      "text/plain": [
       "0.24390243902439024"
      ]
     },
     "execution_count": 114,
     "metadata": {},
     "output_type": "execute_result"
    }
   ],
   "source": [
    "len(df_more_view[(df_more_view['Donate_Scale_holi']>= df_more_view['Donate_Scale']) & \n",
    "                (df_more_view['Donate_Scale_after_holi']>= df_more_view['Donate_Scale_holi'])])/len(df_more_view)"
   ]
  },
  {
   "cell_type": "markdown",
   "id": "9a97eeac",
   "metadata": {},
   "source": [
    "In this 41% streamers, there are 24% streamers earn more donate in holiday and can earn at least the same in holiday."
   ]
  },
  {
   "cell_type": "code",
   "execution_count": 115,
   "id": "21821148",
   "metadata": {},
   "outputs": [
    {
     "data": {
      "text/plain": [
       "0.6585365853658537"
      ]
     },
     "execution_count": 115,
     "metadata": {},
     "output_type": "execute_result"
    }
   ],
   "source": [
    "len(df_more_view[df_more_view['Chat/Sec_holi']>= df_more_view['Chat/Sec']])/len(df_more_view)"
   ]
  },
  {
   "cell_type": "markdown",
   "id": "a0c0b052",
   "metadata": {},
   "source": [
    "In this 41% streamers, there are 65.9% streamers' chat room has more chat in holiday."
   ]
  },
  {
   "cell_type": "code",
   "execution_count": 116,
   "id": "0cee9549",
   "metadata": {},
   "outputs": [
    {
     "data": {
      "text/plain": [
       "0.2682926829268293"
      ]
     },
     "execution_count": 116,
     "metadata": {},
     "output_type": "execute_result"
    }
   ],
   "source": [
    "len(df_more_view[(df_more_view['Chat/Sec_holi']>= df_more_view['Chat/Sec']) & \n",
    "                (df_more_view['Chat/Sec_after_holi']>= df_more_view['Chat/Sec_holi'])])/len(df_more_view)"
   ]
  },
  {
   "cell_type": "markdown",
   "id": "94a671db",
   "metadata": {},
   "source": [
    "In this 41% streamers, there are 26.8% streamers' chat room has more chat in holiday and at least remain the same after holiday."
   ]
  },
  {
   "cell_type": "markdown",
   "id": "fce4c6b0",
   "metadata": {},
   "source": [
    "# Next, we move on to the analysis of each stream of some streamers"
   ]
  },
  {
   "cell_type": "markdown",
   "id": "80e63c14",
   "metadata": {},
   "source": [
    "What can we analyze about?"
   ]
  },
  {
   "cell_type": "markdown",
   "id": "e6f3912e",
   "metadata": {},
   "source": [
    "1. What the viewers like/dislike about me?"
   ]
  },
  {
   "cell_type": "markdown",
   "id": "e6e9932a",
   "metadata": {},
   "source": [
    "We look at 3 aspects:\n",
    "* viewers: viewers at each time, when does viewer number increase, when does it decrease\n",
    "* donation: when does donation occur\n",
    "* chat : when is chat room getting hot?"
   ]
  },
  {
   "cell_type": "markdown",
   "id": "0ada162e",
   "metadata": {},
   "source": [
    "We random choose the data generated above and further generate data to answer the question."
   ]
  },
  {
   "cell_type": "code",
   "execution_count": 117,
   "id": "f62d5d03",
   "metadata": {},
   "outputs": [],
   "source": [
    "streamer = rng.choice(99, 1)+1"
   ]
  },
  {
   "cell_type": "code",
   "execution_count": 118,
   "id": "20f88a03",
   "metadata": {},
   "outputs": [
    {
     "data": {
      "text/plain": [
       "array([88], dtype=int64)"
      ]
     },
     "execution_count": 118,
     "metadata": {},
     "output_type": "execute_result"
    }
   ],
   "source": [
    "streamer"
   ]
  },
  {
   "cell_type": "code",
   "execution_count": 120,
   "id": "ab0d994f",
   "metadata": {},
   "outputs": [
    {
     "data": {
      "text/html": [
       "<div>\n",
       "<style scoped>\n",
       "    .dataframe tbody tr th:only-of-type {\n",
       "        vertical-align: middle;\n",
       "    }\n",
       "\n",
       "    .dataframe tbody tr th {\n",
       "        vertical-align: top;\n",
       "    }\n",
       "\n",
       "    .dataframe thead th {\n",
       "        text-align: right;\n",
       "    }\n",
       "</style>\n",
       "<table border=\"1\" class=\"dataframe\">\n",
       "  <thead>\n",
       "    <tr style=\"text-align: right;\">\n",
       "      <th></th>\n",
       "      <th>StreamerID</th>\n",
       "      <th>Scale</th>\n",
       "      <th>Start_Time</th>\n",
       "      <th>Duration</th>\n",
       "      <th>Donate_Scale</th>\n",
       "      <th>Chat/Sec</th>\n",
       "      <th>Scale_holi</th>\n",
       "      <th>Scale_after_holi</th>\n",
       "      <th>Duration_holi</th>\n",
       "      <th>Duration_after_holi</th>\n",
       "      <th>Donate_Scale_holi</th>\n",
       "      <th>Donate_Scale_after_holi</th>\n",
       "      <th>Chat/Sec_holi</th>\n",
       "      <th>Chat/Sec_after_holi</th>\n",
       "    </tr>\n",
       "  </thead>\n",
       "  <tbody>\n",
       "    <tr>\n",
       "      <th>87</th>\n",
       "      <td>88</td>\n",
       "      <td>4</td>\n",
       "      <td>Morning</td>\n",
       "      <td>2</td>\n",
       "      <td>2</td>\n",
       "      <td>4</td>\n",
       "      <td>2</td>\n",
       "      <td>4</td>\n",
       "      <td>11</td>\n",
       "      <td>3</td>\n",
       "      <td>1</td>\n",
       "      <td>1</td>\n",
       "      <td>2</td>\n",
       "      <td>3</td>\n",
       "    </tr>\n",
       "  </tbody>\n",
       "</table>\n",
       "</div>"
      ],
      "text/plain": [
       "    StreamerID  Scale Start_Time  Duration  Donate_Scale  Chat/Sec  \\\n",
       "87          88      4    Morning         2             2         4   \n",
       "\n",
       "    Scale_holi  Scale_after_holi  Duration_holi  Duration_after_holi  \\\n",
       "87           2                 4             11                    3   \n",
       "\n",
       "    Donate_Scale_holi  Donate_Scale_after_holi  Chat/Sec_holi  \\\n",
       "87                  1                        1              2   \n",
       "\n",
       "    Chat/Sec_after_holi  \n",
       "87                    3  "
      ]
     },
     "execution_count": 120,
     "metadata": {},
     "output_type": "execute_result"
    }
   ],
   "source": [
    "df[df['StreamerID'] == int(streamer)]"
   ]
  },
  {
   "cell_type": "markdown",
   "id": "f4c85061",
   "metadata": {},
   "source": [
    "Stream before holiday"
   ]
  },
  {
   "cell_type": "markdown",
   "id": "a76e787d",
   "metadata": {},
   "source": [
    "Viewer number (per minute)"
   ]
  },
  {
   "cell_type": "code",
   "execution_count": 122,
   "id": "5d1645a9",
   "metadata": {},
   "outputs": [],
   "source": [
    "df_streamer = pd.DataFrame(\n",
    "{'Time_After_Start': range(1,121), 'Viewers': [0]* 120}\n",
    ")"
   ]
  },
  {
   "cell_type": "code",
   "execution_count": 123,
   "id": "e94b967e",
   "metadata": {},
   "outputs": [
    {
     "data": {
      "text/html": [
       "<div>\n",
       "<style scoped>\n",
       "    .dataframe tbody tr th:only-of-type {\n",
       "        vertical-align: middle;\n",
       "    }\n",
       "\n",
       "    .dataframe tbody tr th {\n",
       "        vertical-align: top;\n",
       "    }\n",
       "\n",
       "    .dataframe thead th {\n",
       "        text-align: right;\n",
       "    }\n",
       "</style>\n",
       "<table border=\"1\" class=\"dataframe\">\n",
       "  <thead>\n",
       "    <tr style=\"text-align: right;\">\n",
       "      <th></th>\n",
       "      <th>Time_After_Start</th>\n",
       "      <th>Viewers</th>\n",
       "    </tr>\n",
       "  </thead>\n",
       "  <tbody>\n",
       "    <tr>\n",
       "      <th>0</th>\n",
       "      <td>1</td>\n",
       "      <td>0</td>\n",
       "    </tr>\n",
       "    <tr>\n",
       "      <th>1</th>\n",
       "      <td>2</td>\n",
       "      <td>0</td>\n",
       "    </tr>\n",
       "    <tr>\n",
       "      <th>2</th>\n",
       "      <td>3</td>\n",
       "      <td>0</td>\n",
       "    </tr>\n",
       "    <tr>\n",
       "      <th>3</th>\n",
       "      <td>4</td>\n",
       "      <td>0</td>\n",
       "    </tr>\n",
       "    <tr>\n",
       "      <th>4</th>\n",
       "      <td>5</td>\n",
       "      <td>0</td>\n",
       "    </tr>\n",
       "    <tr>\n",
       "      <th>...</th>\n",
       "      <td>...</td>\n",
       "      <td>...</td>\n",
       "    </tr>\n",
       "    <tr>\n",
       "      <th>115</th>\n",
       "      <td>116</td>\n",
       "      <td>0</td>\n",
       "    </tr>\n",
       "    <tr>\n",
       "      <th>116</th>\n",
       "      <td>117</td>\n",
       "      <td>0</td>\n",
       "    </tr>\n",
       "    <tr>\n",
       "      <th>117</th>\n",
       "      <td>118</td>\n",
       "      <td>0</td>\n",
       "    </tr>\n",
       "    <tr>\n",
       "      <th>118</th>\n",
       "      <td>119</td>\n",
       "      <td>0</td>\n",
       "    </tr>\n",
       "    <tr>\n",
       "      <th>119</th>\n",
       "      <td>120</td>\n",
       "      <td>0</td>\n",
       "    </tr>\n",
       "  </tbody>\n",
       "</table>\n",
       "<p>120 rows × 2 columns</p>\n",
       "</div>"
      ],
      "text/plain": [
       "     Time_After_Start  Viewers\n",
       "0                   1        0\n",
       "1                   2        0\n",
       "2                   3        0\n",
       "3                   4        0\n",
       "4                   5        0\n",
       "..                ...      ...\n",
       "115               116        0\n",
       "116               117        0\n",
       "117               118        0\n",
       "118               119        0\n",
       "119               120        0\n",
       "\n",
       "[120 rows x 2 columns]"
      ]
     },
     "execution_count": 123,
     "metadata": {},
     "output_type": "execute_result"
    }
   ],
   "source": [
    "df_streamer"
   ]
  },
  {
   "cell_type": "code",
   "execution_count": 124,
   "id": "df831990",
   "metadata": {},
   "outputs": [],
   "source": [
    "def sigmoid(x, L ,x0, k, b):\n",
    "    y = L / (1 + np.exp(-k*(x-x0))) + b\n",
    "    return (y)\n",
    "\n",
    "#L is responsible for scaling the output range from [0,1] to [0,L]\n",
    "#b adds bias to the output and changes its range from [0,L] to [b,L+b]\n",
    "#k is responsible for scaling the input, which remains in (-inf,inf)\n",
    "#x0 is the point in the middle of the Sigmoid, \n",
    "#i.e. the point where Sigmoid should output the value L/2 [since if x=x0, we get 1/(1+exp(0)) = 1/2]."
   ]
  },
  {
   "cell_type": "code",
   "execution_count": 132,
   "id": "280737a0",
   "metadata": {},
   "outputs": [],
   "source": [
    "t = np.array([1,2,3,4,5,6,7,8,9,10])"
   ]
  },
  {
   "cell_type": "code",
   "execution_count": 137,
   "id": "c351b3da",
   "metadata": {},
   "outputs": [],
   "source": [
    "num = np.rint(sigmoid(t, 2000 ,2, 1, 0)).astype(int)"
   ]
  },
  {
   "cell_type": "code",
   "execution_count": 138,
   "id": "f08d3f4f",
   "metadata": {},
   "outputs": [
    {
     "data": {
      "text/plain": [
       "array([ 538, 1000, 1462, 1762, 1905, 1964, 1987, 1995, 1998, 1999])"
      ]
     },
     "execution_count": 138,
     "metadata": {},
     "output_type": "execute_result"
    }
   ],
   "source": [
    "num"
   ]
  },
  {
   "cell_type": "code",
   "execution_count": 163,
   "id": "14753c63",
   "metadata": {},
   "outputs": [],
   "source": [
    "fluctuation = np.random.normal(20, 40, 120-len(num))"
   ]
  },
  {
   "cell_type": "code",
   "execution_count": 164,
   "id": "dc13ce5a",
   "metadata": {
    "scrolled": true
   },
   "outputs": [
    {
     "data": {
      "text/plain": [
       "array([ 23.39097776, -29.48607504,  -1.234112  ,  37.66362525,\n",
       "        51.14218815,  -1.5595135 ,  -4.95029274,  39.52235805,\n",
       "        19.8916107 ,  10.5800631 ,  41.73639508,  19.46646792,\n",
       "        21.90563672, -20.08792159,   0.8113012 ,   5.93136317,\n",
       "       157.98759239,  32.4089853 , -14.83696109,  18.57433918,\n",
       "        -4.00593075,  43.75216417,  60.02603009,  17.58050983,\n",
       "       -31.1487149 ,   1.65753584, -14.45779197,  29.45403784,\n",
       "        71.63554971,  49.21842491,  29.44295548,  -6.18642617,\n",
       "       -24.71068299,  -4.63045511, -14.26503621,  16.14913771,\n",
       "        48.05856451,  37.30656712,  32.19904798,  24.56284457,\n",
       "       -85.9524936 ,  17.55353843,  -3.92980502,  17.89681995,\n",
       "        82.96384013, -32.81821435,  15.54559505,  15.20811237,\n",
       "       -21.29692217,   5.23052089,  30.50823033, -66.51657609,\n",
       "       -12.96764097, -18.66189409,  -5.34779199,  96.77547656,\n",
       "       -40.9994642 ,  -9.78268906,  62.6935396 ,   2.47468386,\n",
       "        33.57364199,  32.80383108,  30.56186352,  28.47168276,\n",
       "        32.15380603,  56.2024263 ,  97.90555012,   2.84724415,\n",
       "        54.07835757,  17.61629547, -28.35800621,  17.16947154,\n",
       "        71.88438872,  46.43067344, -65.45857964,  55.64895436,\n",
       "        38.22365469, -12.70824036, -32.6482321 ,  73.25605223,\n",
       "        36.05545075,  21.6206765 ,  34.19097989, 144.95151086,\n",
       "        -5.40657448,  37.40094767,  -3.56189219,  20.15537432,\n",
       "         7.95425784,   0.63925998,  48.62147949, 110.71922679,\n",
       "       -11.15142916,  -6.4828031 , -15.71807135,   1.48557275,\n",
       "         0.69654293,  31.1854757 ,  46.81260438,  46.81720161,\n",
       "       -57.40906102,  30.16619319,  50.56965216, -14.22396528,\n",
       "        69.02709973,  80.63259422,   5.00617483, -29.63054051,\n",
       "        40.84103005, -73.83133417])"
      ]
     },
     "execution_count": 164,
     "metadata": {},
     "output_type": "execute_result"
    }
   ],
   "source": [
    "fluctuation"
   ]
  },
  {
   "cell_type": "code",
   "execution_count": 144,
   "id": "ea9c0af5",
   "metadata": {},
   "outputs": [],
   "source": [
    "from scipy.stats import poisson"
   ]
  },
  {
   "cell_type": "code",
   "execution_count": 168,
   "id": "7eb694cc",
   "metadata": {},
   "outputs": [],
   "source": [
    "rv = poisson.rvs(mu=200, size=10)"
   ]
  },
  {
   "cell_type": "code",
   "execution_count": 149,
   "id": "53539458",
   "metadata": {},
   "outputs": [],
   "source": [
    "shock_time = rng.choice(100, 10)+10"
   ]
  },
  {
   "cell_type": "code",
   "execution_count": 150,
   "id": "09fa310a",
   "metadata": {},
   "outputs": [
    {
     "data": {
      "text/plain": [
       "array([ 28, 108,  43,  85,  62,  10,  89,  50,  99,  10], dtype=int64)"
      ]
     },
     "execution_count": 150,
     "metadata": {},
     "output_type": "execute_result"
    }
   ],
   "source": [
    "shock_time"
   ]
  },
  {
   "cell_type": "code",
   "execution_count": 169,
   "id": "bfa791f9",
   "metadata": {},
   "outputs": [],
   "source": [
    "for i in range(len(shock_time)):\n",
    "    if i<3 : \n",
    "        fluctuation[shock_time[i]] += rv[i]\n",
    "    else:\n",
    "        fluctuation[shock_time[i]] -= rv[i]"
   ]
  },
  {
   "cell_type": "code",
   "execution_count": 170,
   "id": "163e52fb",
   "metadata": {
    "scrolled": true
   },
   "outputs": [
    {
     "data": {
      "text/plain": [
       "array([  23.39097776,  -29.48607504,   -1.234112  ,   37.66362525,\n",
       "         51.14218815,   -1.5595135 ,   -4.95029274,   39.52235805,\n",
       "         19.8916107 ,   10.5800631 , -372.26360492,   19.46646792,\n",
       "         21.90563672,  -20.08792159,    0.8113012 ,    5.93136317,\n",
       "        157.98759239,   32.4089853 ,  -14.83696109,   18.57433918,\n",
       "         -4.00593075,   43.75216417,   60.02603009,   17.58050983,\n",
       "        -31.1487149 ,    1.65753584,  -14.45779197,   29.45403784,\n",
       "        302.63554971,   49.21842491,   29.44295548,   -6.18642617,\n",
       "        -24.71068299,   -4.63045511,  -14.26503621,   16.14913771,\n",
       "         48.05856451,   37.30656712,   32.19904798,   24.56284457,\n",
       "        -85.9524936 ,   17.55353843,   -3.92980502,  242.89681995,\n",
       "         82.96384013,  -32.81821435,   15.54559505,   15.20811237,\n",
       "        -21.29692217,    5.23052089, -219.49176967,  -66.51657609,\n",
       "        -12.96764097,  -18.66189409,   -5.34779199,   96.77547656,\n",
       "        -40.9994642 ,   -9.78268906,   62.6935396 ,    2.47468386,\n",
       "         33.57364199,   32.80383108, -221.43813648,   28.47168276,\n",
       "         32.15380603,   56.2024263 ,   97.90555012,    2.84724415,\n",
       "         54.07835757,   17.61629547,  -28.35800621,   17.16947154,\n",
       "         71.88438872,   46.43067344,  -65.45857964,   55.64895436,\n",
       "         38.22365469,  -12.70824036,  -32.6482321 ,   73.25605223,\n",
       "         36.05545075,   21.6206765 ,   34.19097989,  144.95151086,\n",
       "         -5.40657448, -247.59905233,   -3.56189219,   20.15537432,\n",
       "          7.95425784, -294.36074002,   48.62147949,  110.71922679,\n",
       "        -11.15142916,   -6.4828031 ,  -15.71807135,    1.48557275,\n",
       "          0.69654293,   31.1854757 ,   46.81260438, -266.18279839,\n",
       "        -57.40906102,   30.16619319,   50.56965216,  -14.22396528,\n",
       "         69.02709973,   80.63259422,    5.00617483,  -29.63054051,\n",
       "        365.84103005,  -73.83133417])"
      ]
     },
     "execution_count": 170,
     "metadata": {},
     "output_type": "execute_result"
    }
   ],
   "source": [
    "fluctuation"
   ]
  },
  {
   "cell_type": "code",
   "execution_count": 173,
   "id": "8797ddf9",
   "metadata": {},
   "outputs": [],
   "source": [
    "total_fluc = num[-1] + fluctuation"
   ]
  },
  {
   "cell_type": "code",
   "execution_count": 176,
   "id": "c7ed9561",
   "metadata": {},
   "outputs": [],
   "source": [
    "viewer = np.concatenate((num,np.rint(total_fluc)),axis=0)"
   ]
  },
  {
   "cell_type": "code",
   "execution_count": 179,
   "id": "20ce11cd",
   "metadata": {},
   "outputs": [],
   "source": [
    "df_streamer['Viewers'] = viewer"
   ]
  },
  {
   "cell_type": "code",
   "execution_count": 180,
   "id": "0e5aa982",
   "metadata": {},
   "outputs": [
    {
     "data": {
      "text/html": [
       "<div>\n",
       "<style scoped>\n",
       "    .dataframe tbody tr th:only-of-type {\n",
       "        vertical-align: middle;\n",
       "    }\n",
       "\n",
       "    .dataframe tbody tr th {\n",
       "        vertical-align: top;\n",
       "    }\n",
       "\n",
       "    .dataframe thead th {\n",
       "        text-align: right;\n",
       "    }\n",
       "</style>\n",
       "<table border=\"1\" class=\"dataframe\">\n",
       "  <thead>\n",
       "    <tr style=\"text-align: right;\">\n",
       "      <th></th>\n",
       "      <th>Time_After_Start</th>\n",
       "      <th>Viewers</th>\n",
       "    </tr>\n",
       "  </thead>\n",
       "  <tbody>\n",
       "    <tr>\n",
       "      <th>0</th>\n",
       "      <td>1</td>\n",
       "      <td>538.0</td>\n",
       "    </tr>\n",
       "    <tr>\n",
       "      <th>1</th>\n",
       "      <td>2</td>\n",
       "      <td>1000.0</td>\n",
       "    </tr>\n",
       "    <tr>\n",
       "      <th>2</th>\n",
       "      <td>3</td>\n",
       "      <td>1462.0</td>\n",
       "    </tr>\n",
       "    <tr>\n",
       "      <th>3</th>\n",
       "      <td>4</td>\n",
       "      <td>1762.0</td>\n",
       "    </tr>\n",
       "    <tr>\n",
       "      <th>4</th>\n",
       "      <td>5</td>\n",
       "      <td>1905.0</td>\n",
       "    </tr>\n",
       "    <tr>\n",
       "      <th>...</th>\n",
       "      <td>...</td>\n",
       "      <td>...</td>\n",
       "    </tr>\n",
       "    <tr>\n",
       "      <th>115</th>\n",
       "      <td>116</td>\n",
       "      <td>2080.0</td>\n",
       "    </tr>\n",
       "    <tr>\n",
       "      <th>116</th>\n",
       "      <td>117</td>\n",
       "      <td>2004.0</td>\n",
       "    </tr>\n",
       "    <tr>\n",
       "      <th>117</th>\n",
       "      <td>118</td>\n",
       "      <td>1969.0</td>\n",
       "    </tr>\n",
       "    <tr>\n",
       "      <th>118</th>\n",
       "      <td>119</td>\n",
       "      <td>2365.0</td>\n",
       "    </tr>\n",
       "    <tr>\n",
       "      <th>119</th>\n",
       "      <td>120</td>\n",
       "      <td>1925.0</td>\n",
       "    </tr>\n",
       "  </tbody>\n",
       "</table>\n",
       "<p>120 rows × 2 columns</p>\n",
       "</div>"
      ],
      "text/plain": [
       "     Time_After_Start  Viewers\n",
       "0                   1    538.0\n",
       "1                   2   1000.0\n",
       "2                   3   1462.0\n",
       "3                   4   1762.0\n",
       "4                   5   1905.0\n",
       "..                ...      ...\n",
       "115               116   2080.0\n",
       "116               117   2004.0\n",
       "117               118   1969.0\n",
       "118               119   2365.0\n",
       "119               120   1925.0\n",
       "\n",
       "[120 rows x 2 columns]"
      ]
     },
     "execution_count": 180,
     "metadata": {},
     "output_type": "execute_result"
    }
   ],
   "source": [
    "df_streamer"
   ]
  },
  {
   "cell_type": "code",
   "execution_count": 181,
   "id": "e3331791",
   "metadata": {},
   "outputs": [],
   "source": [
    "donation_time = rng.choice(119, 40) +1\n",
    "donation_num = rng.choice(50, 40,replace = True)+1"
   ]
  },
  {
   "cell_type": "code",
   "execution_count": 184,
   "id": "45e39237",
   "metadata": {},
   "outputs": [],
   "source": [
    "donation_average_value = [100]* 25 + [1000] * 10 + [10000] * 5"
   ]
  },
  {
   "cell_type": "code",
   "execution_count": 185,
   "id": "e4f7346d",
   "metadata": {},
   "outputs": [],
   "source": [
    "df_streamer['Donation_YN'] = 0\n",
    "df_streamer['Donation_Number'] = 0\n",
    "df_streamer['Donation_Average_Value'] = 0"
   ]
  },
  {
   "cell_type": "code",
   "execution_count": 186,
   "id": "c784fe23",
   "metadata": {},
   "outputs": [],
   "source": [
    "df_streamer.loc[donation_time,'Donation_YN'] = 1"
   ]
  },
  {
   "cell_type": "code",
   "execution_count": 188,
   "id": "78dcb36f",
   "metadata": {},
   "outputs": [],
   "source": [
    "df_streamer.loc[donation_time,'Donation_Number'] = donation_num\n",
    "df_streamer.loc[donation_time,'Donation_Average_Value'] = donation_average_value"
   ]
  },
  {
   "cell_type": "code",
   "execution_count": 189,
   "id": "ede01ea0",
   "metadata": {},
   "outputs": [
    {
     "data": {
      "text/html": [
       "<div>\n",
       "<style scoped>\n",
       "    .dataframe tbody tr th:only-of-type {\n",
       "        vertical-align: middle;\n",
       "    }\n",
       "\n",
       "    .dataframe tbody tr th {\n",
       "        vertical-align: top;\n",
       "    }\n",
       "\n",
       "    .dataframe thead th {\n",
       "        text-align: right;\n",
       "    }\n",
       "</style>\n",
       "<table border=\"1\" class=\"dataframe\">\n",
       "  <thead>\n",
       "    <tr style=\"text-align: right;\">\n",
       "      <th></th>\n",
       "      <th>Time_After_Start</th>\n",
       "      <th>Viewers</th>\n",
       "      <th>Donation_YN</th>\n",
       "      <th>Donation_Number</th>\n",
       "      <th>Donation_Average_Value</th>\n",
       "    </tr>\n",
       "  </thead>\n",
       "  <tbody>\n",
       "    <tr>\n",
       "      <th>0</th>\n",
       "      <td>1</td>\n",
       "      <td>538.0</td>\n",
       "      <td>0</td>\n",
       "      <td>0</td>\n",
       "      <td>0</td>\n",
       "    </tr>\n",
       "    <tr>\n",
       "      <th>1</th>\n",
       "      <td>2</td>\n",
       "      <td>1000.0</td>\n",
       "      <td>1</td>\n",
       "      <td>33</td>\n",
       "      <td>10000</td>\n",
       "    </tr>\n",
       "    <tr>\n",
       "      <th>2</th>\n",
       "      <td>3</td>\n",
       "      <td>1462.0</td>\n",
       "      <td>0</td>\n",
       "      <td>0</td>\n",
       "      <td>0</td>\n",
       "    </tr>\n",
       "    <tr>\n",
       "      <th>3</th>\n",
       "      <td>4</td>\n",
       "      <td>1762.0</td>\n",
       "      <td>1</td>\n",
       "      <td>19</td>\n",
       "      <td>100</td>\n",
       "    </tr>\n",
       "    <tr>\n",
       "      <th>4</th>\n",
       "      <td>5</td>\n",
       "      <td>1905.0</td>\n",
       "      <td>0</td>\n",
       "      <td>0</td>\n",
       "      <td>0</td>\n",
       "    </tr>\n",
       "    <tr>\n",
       "      <th>...</th>\n",
       "      <td>...</td>\n",
       "      <td>...</td>\n",
       "      <td>...</td>\n",
       "      <td>...</td>\n",
       "      <td>...</td>\n",
       "    </tr>\n",
       "    <tr>\n",
       "      <th>115</th>\n",
       "      <td>116</td>\n",
       "      <td>2080.0</td>\n",
       "      <td>1</td>\n",
       "      <td>34</td>\n",
       "      <td>1000</td>\n",
       "    </tr>\n",
       "    <tr>\n",
       "      <th>116</th>\n",
       "      <td>117</td>\n",
       "      <td>2004.0</td>\n",
       "      <td>0</td>\n",
       "      <td>0</td>\n",
       "      <td>0</td>\n",
       "    </tr>\n",
       "    <tr>\n",
       "      <th>117</th>\n",
       "      <td>118</td>\n",
       "      <td>1969.0</td>\n",
       "      <td>1</td>\n",
       "      <td>33</td>\n",
       "      <td>1000</td>\n",
       "    </tr>\n",
       "    <tr>\n",
       "      <th>118</th>\n",
       "      <td>119</td>\n",
       "      <td>2365.0</td>\n",
       "      <td>0</td>\n",
       "      <td>0</td>\n",
       "      <td>0</td>\n",
       "    </tr>\n",
       "    <tr>\n",
       "      <th>119</th>\n",
       "      <td>120</td>\n",
       "      <td>1925.0</td>\n",
       "      <td>0</td>\n",
       "      <td>0</td>\n",
       "      <td>0</td>\n",
       "    </tr>\n",
       "  </tbody>\n",
       "</table>\n",
       "<p>120 rows × 5 columns</p>\n",
       "</div>"
      ],
      "text/plain": [
       "     Time_After_Start  Viewers  Donation_YN  Donation_Number  \\\n",
       "0                   1    538.0            0                0   \n",
       "1                   2   1000.0            1               33   \n",
       "2                   3   1462.0            0                0   \n",
       "3                   4   1762.0            1               19   \n",
       "4                   5   1905.0            0                0   \n",
       "..                ...      ...          ...              ...   \n",
       "115               116   2080.0            1               34   \n",
       "116               117   2004.0            0                0   \n",
       "117               118   1969.0            1               33   \n",
       "118               119   2365.0            0                0   \n",
       "119               120   1925.0            0                0   \n",
       "\n",
       "     Donation_Average_Value  \n",
       "0                         0  \n",
       "1                     10000  \n",
       "2                         0  \n",
       "3                       100  \n",
       "4                         0  \n",
       "..                      ...  \n",
       "115                    1000  \n",
       "116                       0  \n",
       "117                    1000  \n",
       "118                       0  \n",
       "119                       0  \n",
       "\n",
       "[120 rows x 5 columns]"
      ]
     },
     "execution_count": 189,
     "metadata": {},
     "output_type": "execute_result"
    }
   ],
   "source": [
    "df_streamer"
   ]
  },
  {
   "cell_type": "code",
   "execution_count": 190,
   "id": "8b467178",
   "metadata": {},
   "outputs": [],
   "source": [
    "df_streamer['Chat/Minute'] = rng.choice(300, 120,replace = True) +1"
   ]
  },
  {
   "cell_type": "code",
   "execution_count": 192,
   "id": "fb102551",
   "metadata": {},
   "outputs": [
    {
     "data": {
      "text/html": [
       "<div>\n",
       "<style scoped>\n",
       "    .dataframe tbody tr th:only-of-type {\n",
       "        vertical-align: middle;\n",
       "    }\n",
       "\n",
       "    .dataframe tbody tr th {\n",
       "        vertical-align: top;\n",
       "    }\n",
       "\n",
       "    .dataframe thead th {\n",
       "        text-align: right;\n",
       "    }\n",
       "</style>\n",
       "<table border=\"1\" class=\"dataframe\">\n",
       "  <thead>\n",
       "    <tr style=\"text-align: right;\">\n",
       "      <th></th>\n",
       "      <th>Time_After_Start</th>\n",
       "      <th>Viewers</th>\n",
       "      <th>Donation_YN</th>\n",
       "      <th>Donation_Number</th>\n",
       "      <th>Donation_Average_Value</th>\n",
       "      <th>Chat/Minute</th>\n",
       "    </tr>\n",
       "  </thead>\n",
       "  <tbody>\n",
       "    <tr>\n",
       "      <th>0</th>\n",
       "      <td>1</td>\n",
       "      <td>538.0</td>\n",
       "      <td>0</td>\n",
       "      <td>0</td>\n",
       "      <td>0</td>\n",
       "      <td>92</td>\n",
       "    </tr>\n",
       "    <tr>\n",
       "      <th>1</th>\n",
       "      <td>2</td>\n",
       "      <td>1000.0</td>\n",
       "      <td>1</td>\n",
       "      <td>33</td>\n",
       "      <td>10000</td>\n",
       "      <td>134</td>\n",
       "    </tr>\n",
       "    <tr>\n",
       "      <th>2</th>\n",
       "      <td>3</td>\n",
       "      <td>1462.0</td>\n",
       "      <td>0</td>\n",
       "      <td>0</td>\n",
       "      <td>0</td>\n",
       "      <td>258</td>\n",
       "    </tr>\n",
       "    <tr>\n",
       "      <th>3</th>\n",
       "      <td>4</td>\n",
       "      <td>1762.0</td>\n",
       "      <td>1</td>\n",
       "      <td>19</td>\n",
       "      <td>100</td>\n",
       "      <td>193</td>\n",
       "    </tr>\n",
       "    <tr>\n",
       "      <th>4</th>\n",
       "      <td>5</td>\n",
       "      <td>1905.0</td>\n",
       "      <td>0</td>\n",
       "      <td>0</td>\n",
       "      <td>0</td>\n",
       "      <td>239</td>\n",
       "    </tr>\n",
       "    <tr>\n",
       "      <th>...</th>\n",
       "      <td>...</td>\n",
       "      <td>...</td>\n",
       "      <td>...</td>\n",
       "      <td>...</td>\n",
       "      <td>...</td>\n",
       "      <td>...</td>\n",
       "    </tr>\n",
       "    <tr>\n",
       "      <th>115</th>\n",
       "      <td>116</td>\n",
       "      <td>2080.0</td>\n",
       "      <td>1</td>\n",
       "      <td>34</td>\n",
       "      <td>1000</td>\n",
       "      <td>53</td>\n",
       "    </tr>\n",
       "    <tr>\n",
       "      <th>116</th>\n",
       "      <td>117</td>\n",
       "      <td>2004.0</td>\n",
       "      <td>0</td>\n",
       "      <td>0</td>\n",
       "      <td>0</td>\n",
       "      <td>249</td>\n",
       "    </tr>\n",
       "    <tr>\n",
       "      <th>117</th>\n",
       "      <td>118</td>\n",
       "      <td>1969.0</td>\n",
       "      <td>1</td>\n",
       "      <td>33</td>\n",
       "      <td>1000</td>\n",
       "      <td>155</td>\n",
       "    </tr>\n",
       "    <tr>\n",
       "      <th>118</th>\n",
       "      <td>119</td>\n",
       "      <td>2365.0</td>\n",
       "      <td>0</td>\n",
       "      <td>0</td>\n",
       "      <td>0</td>\n",
       "      <td>265</td>\n",
       "    </tr>\n",
       "    <tr>\n",
       "      <th>119</th>\n",
       "      <td>120</td>\n",
       "      <td>1925.0</td>\n",
       "      <td>0</td>\n",
       "      <td>0</td>\n",
       "      <td>0</td>\n",
       "      <td>269</td>\n",
       "    </tr>\n",
       "  </tbody>\n",
       "</table>\n",
       "<p>120 rows × 6 columns</p>\n",
       "</div>"
      ],
      "text/plain": [
       "     Time_After_Start  Viewers  Donation_YN  Donation_Number  \\\n",
       "0                   1    538.0            0                0   \n",
       "1                   2   1000.0            1               33   \n",
       "2                   3   1462.0            0                0   \n",
       "3                   4   1762.0            1               19   \n",
       "4                   5   1905.0            0                0   \n",
       "..                ...      ...          ...              ...   \n",
       "115               116   2080.0            1               34   \n",
       "116               117   2004.0            0                0   \n",
       "117               118   1969.0            1               33   \n",
       "118               119   2365.0            0                0   \n",
       "119               120   1925.0            0                0   \n",
       "\n",
       "     Donation_Average_Value  Chat/Minute  \n",
       "0                         0           92  \n",
       "1                     10000          134  \n",
       "2                         0          258  \n",
       "3                       100          193  \n",
       "4                         0          239  \n",
       "..                      ...          ...  \n",
       "115                    1000           53  \n",
       "116                       0          249  \n",
       "117                    1000          155  \n",
       "118                       0          265  \n",
       "119                       0          269  \n",
       "\n",
       "[120 rows x 6 columns]"
      ]
     },
     "execution_count": 192,
     "metadata": {},
     "output_type": "execute_result"
    }
   ],
   "source": [
    "df_streamer"
   ]
  },
  {
   "cell_type": "markdown",
   "id": "429a7c71",
   "metadata": {},
   "source": [
    "After generating data, we can analyze about the viewer of StreamerID = 88."
   ]
  },
  {
   "cell_type": "markdown",
   "id": "54b9f8e2",
   "metadata": {},
   "source": [
    "* High viewers & High Chat speed:"
   ]
  },
  {
   "cell_type": "code",
   "execution_count": 194,
   "id": "267fa987",
   "metadata": {
    "scrolled": true
   },
   "outputs": [
    {
     "data": {
      "text/html": [
       "<div>\n",
       "<style scoped>\n",
       "    .dataframe tbody tr th:only-of-type {\n",
       "        vertical-align: middle;\n",
       "    }\n",
       "\n",
       "    .dataframe tbody tr th {\n",
       "        vertical-align: top;\n",
       "    }\n",
       "\n",
       "    .dataframe thead th {\n",
       "        text-align: right;\n",
       "    }\n",
       "</style>\n",
       "<table border=\"1\" class=\"dataframe\">\n",
       "  <thead>\n",
       "    <tr style=\"text-align: right;\">\n",
       "      <th></th>\n",
       "      <th>Time_After_Start</th>\n",
       "      <th>Viewers</th>\n",
       "      <th>Donation_YN</th>\n",
       "      <th>Donation_Number</th>\n",
       "      <th>Donation_Average_Value</th>\n",
       "      <th>Chat/Minute</th>\n",
       "    </tr>\n",
       "  </thead>\n",
       "  <tbody>\n",
       "    <tr>\n",
       "      <th>10</th>\n",
       "      <td>11</td>\n",
       "      <td>2022.0</td>\n",
       "      <td>1</td>\n",
       "      <td>47</td>\n",
       "      <td>1000</td>\n",
       "      <td>217</td>\n",
       "    </tr>\n",
       "    <tr>\n",
       "      <th>13</th>\n",
       "      <td>14</td>\n",
       "      <td>2037.0</td>\n",
       "      <td>0</td>\n",
       "      <td>0</td>\n",
       "      <td>0</td>\n",
       "      <td>274</td>\n",
       "    </tr>\n",
       "    <tr>\n",
       "      <th>19</th>\n",
       "      <td>20</td>\n",
       "      <td>2010.0</td>\n",
       "      <td>1</td>\n",
       "      <td>19</td>\n",
       "      <td>100</td>\n",
       "      <td>206</td>\n",
       "    </tr>\n",
       "    <tr>\n",
       "      <th>21</th>\n",
       "      <td>22</td>\n",
       "      <td>2018.0</td>\n",
       "      <td>0</td>\n",
       "      <td>0</td>\n",
       "      <td>0</td>\n",
       "      <td>243</td>\n",
       "    </tr>\n",
       "    <tr>\n",
       "      <th>26</th>\n",
       "      <td>27</td>\n",
       "      <td>2157.0</td>\n",
       "      <td>0</td>\n",
       "      <td>0</td>\n",
       "      <td>0</td>\n",
       "      <td>228</td>\n",
       "    </tr>\n",
       "    <tr>\n",
       "      <th>33</th>\n",
       "      <td>34</td>\n",
       "      <td>2017.0</td>\n",
       "      <td>0</td>\n",
       "      <td>0</td>\n",
       "      <td>0</td>\n",
       "      <td>220</td>\n",
       "    </tr>\n",
       "    <tr>\n",
       "      <th>38</th>\n",
       "      <td>39</td>\n",
       "      <td>2302.0</td>\n",
       "      <td>0</td>\n",
       "      <td>0</td>\n",
       "      <td>0</td>\n",
       "      <td>233</td>\n",
       "    </tr>\n",
       "    <tr>\n",
       "      <th>39</th>\n",
       "      <td>40</td>\n",
       "      <td>2048.0</td>\n",
       "      <td>0</td>\n",
       "      <td>0</td>\n",
       "      <td>0</td>\n",
       "      <td>278</td>\n",
       "    </tr>\n",
       "    <tr>\n",
       "      <th>46</th>\n",
       "      <td>47</td>\n",
       "      <td>2047.0</td>\n",
       "      <td>0</td>\n",
       "      <td>0</td>\n",
       "      <td>0</td>\n",
       "      <td>176</td>\n",
       "    </tr>\n",
       "    <tr>\n",
       "      <th>47</th>\n",
       "      <td>48</td>\n",
       "      <td>2036.0</td>\n",
       "      <td>1</td>\n",
       "      <td>39</td>\n",
       "      <td>1000</td>\n",
       "      <td>200</td>\n",
       "    </tr>\n",
       "    <tr>\n",
       "      <th>48</th>\n",
       "      <td>49</td>\n",
       "      <td>2031.0</td>\n",
       "      <td>0</td>\n",
       "      <td>0</td>\n",
       "      <td>0</td>\n",
       "      <td>194</td>\n",
       "    </tr>\n",
       "    <tr>\n",
       "      <th>49</th>\n",
       "      <td>50</td>\n",
       "      <td>2024.0</td>\n",
       "      <td>1</td>\n",
       "      <td>7</td>\n",
       "      <td>100</td>\n",
       "      <td>169</td>\n",
       "    </tr>\n",
       "    <tr>\n",
       "      <th>54</th>\n",
       "      <td>55</td>\n",
       "      <td>2082.0</td>\n",
       "      <td>1</td>\n",
       "      <td>27</td>\n",
       "      <td>100</td>\n",
       "      <td>267</td>\n",
       "    </tr>\n",
       "    <tr>\n",
       "      <th>56</th>\n",
       "      <td>57</td>\n",
       "      <td>2015.0</td>\n",
       "      <td>0</td>\n",
       "      <td>0</td>\n",
       "      <td>0</td>\n",
       "      <td>269</td>\n",
       "    </tr>\n",
       "    <tr>\n",
       "      <th>57</th>\n",
       "      <td>58</td>\n",
       "      <td>2014.0</td>\n",
       "      <td>0</td>\n",
       "      <td>0</td>\n",
       "      <td>0</td>\n",
       "      <td>227</td>\n",
       "    </tr>\n",
       "    <tr>\n",
       "      <th>70</th>\n",
       "      <td>71</td>\n",
       "      <td>2033.0</td>\n",
       "      <td>0</td>\n",
       "      <td>0</td>\n",
       "      <td>0</td>\n",
       "      <td>263</td>\n",
       "    </tr>\n",
       "    <tr>\n",
       "      <th>71</th>\n",
       "      <td>72</td>\n",
       "      <td>2032.0</td>\n",
       "      <td>0</td>\n",
       "      <td>0</td>\n",
       "      <td>0</td>\n",
       "      <td>243</td>\n",
       "    </tr>\n",
       "    <tr>\n",
       "      <th>75</th>\n",
       "      <td>76</td>\n",
       "      <td>2055.0</td>\n",
       "      <td>1</td>\n",
       "      <td>14</td>\n",
       "      <td>100</td>\n",
       "      <td>213</td>\n",
       "    </tr>\n",
       "    <tr>\n",
       "      <th>78</th>\n",
       "      <td>79</td>\n",
       "      <td>2053.0</td>\n",
       "      <td>0</td>\n",
       "      <td>0</td>\n",
       "      <td>0</td>\n",
       "      <td>214</td>\n",
       "    </tr>\n",
       "    <tr>\n",
       "      <th>79</th>\n",
       "      <td>80</td>\n",
       "      <td>2017.0</td>\n",
       "      <td>0</td>\n",
       "      <td>0</td>\n",
       "      <td>0</td>\n",
       "      <td>186</td>\n",
       "    </tr>\n",
       "    <tr>\n",
       "      <th>89</th>\n",
       "      <td>90</td>\n",
       "      <td>2072.0</td>\n",
       "      <td>0</td>\n",
       "      <td>0</td>\n",
       "      <td>0</td>\n",
       "      <td>230</td>\n",
       "    </tr>\n",
       "    <tr>\n",
       "      <th>90</th>\n",
       "      <td>91</td>\n",
       "      <td>2035.0</td>\n",
       "      <td>1</td>\n",
       "      <td>6</td>\n",
       "      <td>1000</td>\n",
       "      <td>235</td>\n",
       "    </tr>\n",
       "    <tr>\n",
       "      <th>92</th>\n",
       "      <td>93</td>\n",
       "      <td>2033.0</td>\n",
       "      <td>0</td>\n",
       "      <td>0</td>\n",
       "      <td>0</td>\n",
       "      <td>272</td>\n",
       "    </tr>\n",
       "    <tr>\n",
       "      <th>93</th>\n",
       "      <td>94</td>\n",
       "      <td>2144.0</td>\n",
       "      <td>0</td>\n",
       "      <td>0</td>\n",
       "      <td>0</td>\n",
       "      <td>279</td>\n",
       "    </tr>\n",
       "    <tr>\n",
       "      <th>97</th>\n",
       "      <td>98</td>\n",
       "      <td>2019.0</td>\n",
       "      <td>0</td>\n",
       "      <td>0</td>\n",
       "      <td>0</td>\n",
       "      <td>294</td>\n",
       "    </tr>\n",
       "    <tr>\n",
       "      <th>101</th>\n",
       "      <td>102</td>\n",
       "      <td>2110.0</td>\n",
       "      <td>0</td>\n",
       "      <td>0</td>\n",
       "      <td>0</td>\n",
       "      <td>204</td>\n",
       "    </tr>\n",
       "    <tr>\n",
       "      <th>107</th>\n",
       "      <td>108</td>\n",
       "      <td>2030.0</td>\n",
       "      <td>1</td>\n",
       "      <td>12</td>\n",
       "      <td>100</td>\n",
       "      <td>196</td>\n",
       "    </tr>\n",
       "    <tr>\n",
       "      <th>114</th>\n",
       "      <td>115</td>\n",
       "      <td>2068.0</td>\n",
       "      <td>0</td>\n",
       "      <td>0</td>\n",
       "      <td>0</td>\n",
       "      <td>300</td>\n",
       "    </tr>\n",
       "    <tr>\n",
       "      <th>118</th>\n",
       "      <td>119</td>\n",
       "      <td>2365.0</td>\n",
       "      <td>0</td>\n",
       "      <td>0</td>\n",
       "      <td>0</td>\n",
       "      <td>265</td>\n",
       "    </tr>\n",
       "  </tbody>\n",
       "</table>\n",
       "</div>"
      ],
      "text/plain": [
       "     Time_After_Start  Viewers  Donation_YN  Donation_Number  \\\n",
       "10                 11   2022.0            1               47   \n",
       "13                 14   2037.0            0                0   \n",
       "19                 20   2010.0            1               19   \n",
       "21                 22   2018.0            0                0   \n",
       "26                 27   2157.0            0                0   \n",
       "33                 34   2017.0            0                0   \n",
       "38                 39   2302.0            0                0   \n",
       "39                 40   2048.0            0                0   \n",
       "46                 47   2047.0            0                0   \n",
       "47                 48   2036.0            1               39   \n",
       "48                 49   2031.0            0                0   \n",
       "49                 50   2024.0            1                7   \n",
       "54                 55   2082.0            1               27   \n",
       "56                 57   2015.0            0                0   \n",
       "57                 58   2014.0            0                0   \n",
       "70                 71   2033.0            0                0   \n",
       "71                 72   2032.0            0                0   \n",
       "75                 76   2055.0            1               14   \n",
       "78                 79   2053.0            0                0   \n",
       "79                 80   2017.0            0                0   \n",
       "89                 90   2072.0            0                0   \n",
       "90                 91   2035.0            1                6   \n",
       "92                 93   2033.0            0                0   \n",
       "93                 94   2144.0            0                0   \n",
       "97                 98   2019.0            0                0   \n",
       "101               102   2110.0            0                0   \n",
       "107               108   2030.0            1               12   \n",
       "114               115   2068.0            0                0   \n",
       "118               119   2365.0            0                0   \n",
       "\n",
       "     Donation_Average_Value  Chat/Minute  \n",
       "10                     1000          217  \n",
       "13                        0          274  \n",
       "19                      100          206  \n",
       "21                        0          243  \n",
       "26                        0          228  \n",
       "33                        0          220  \n",
       "38                        0          233  \n",
       "39                        0          278  \n",
       "46                        0          176  \n",
       "47                     1000          200  \n",
       "48                        0          194  \n",
       "49                      100          169  \n",
       "54                      100          267  \n",
       "56                        0          269  \n",
       "57                        0          227  \n",
       "70                        0          263  \n",
       "71                        0          243  \n",
       "75                      100          213  \n",
       "78                        0          214  \n",
       "79                        0          186  \n",
       "89                        0          230  \n",
       "90                     1000          235  \n",
       "92                        0          272  \n",
       "93                        0          279  \n",
       "97                        0          294  \n",
       "101                       0          204  \n",
       "107                     100          196  \n",
       "114                       0          300  \n",
       "118                       0          265  "
      ]
     },
     "execution_count": 194,
     "metadata": {},
     "output_type": "execute_result"
    }
   ],
   "source": [
    "df_streamer[\n",
    "    (df_streamer['Viewers'] >= df_streamer['Viewers'].median()) &\n",
    "    (df_streamer['Chat/Minute'] >= df_streamer['Chat/Minute'].median())\n",
    "]"
   ]
  },
  {
   "cell_type": "markdown",
   "id": "2ce544e7",
   "metadata": {},
   "source": [
    "## Question: In the case of high viewers and high chat speed, is there more donation than other cases?"
   ]
  },
  {
   "cell_type": "code",
   "execution_count": 195,
   "id": "9969ec63",
   "metadata": {},
   "outputs": [
    {
     "data": {
      "text/plain": [
       "0.2111111111111111"
      ]
     },
     "execution_count": 195,
     "metadata": {},
     "output_type": "execute_result"
    }
   ],
   "source": [
    "df_streamer[\n",
    "    (df_streamer['Viewers'] >= df_streamer['Viewers'].median()) &\n",
    "    (df_streamer['Chat/Minute'] >= df_streamer['Chat/Minute'].median())\n",
    "]['Donation_Number'].sum()/ df_streamer['Donation_Number'].sum()"
   ]
  },
  {
   "cell_type": "markdown",
   "id": "3987e7da",
   "metadata": {},
   "source": [
    "To answer this question, we classify the value higher than median as `high` and the value lower than median as `low`."
   ]
  },
  {
   "cell_type": "code",
   "execution_count": 197,
   "id": "8c39def7",
   "metadata": {},
   "outputs": [],
   "source": [
    "df_streamer['Viewer_High_low'] = df_streamer['Viewers'].apply(lambda x : 'High' if x>df_streamer['Viewers'].median() else 'Low')"
   ]
  },
  {
   "cell_type": "code",
   "execution_count": 199,
   "id": "e21b0f46",
   "metadata": {},
   "outputs": [],
   "source": [
    "df_streamer['Chat_High_low'] = df_streamer['Chat/Minute'].apply(lambda x : 'High' if x>df_streamer['Chat/Minute'].median() else 'Low')"
   ]
  },
  {
   "cell_type": "code",
   "execution_count": 201,
   "id": "225ab802",
   "metadata": {},
   "outputs": [
    {
     "data": {
      "text/html": [
       "<div>\n",
       "<style scoped>\n",
       "    .dataframe tbody tr th:only-of-type {\n",
       "        vertical-align: middle;\n",
       "    }\n",
       "\n",
       "    .dataframe tbody tr th {\n",
       "        vertical-align: top;\n",
       "    }\n",
       "\n",
       "    .dataframe thead th {\n",
       "        text-align: right;\n",
       "    }\n",
       "</style>\n",
       "<table border=\"1\" class=\"dataframe\">\n",
       "  <thead>\n",
       "    <tr style=\"text-align: right;\">\n",
       "      <th>Chat_High_low</th>\n",
       "      <th>High</th>\n",
       "      <th>Low</th>\n",
       "    </tr>\n",
       "    <tr>\n",
       "      <th>Viewer_High_low</th>\n",
       "      <th></th>\n",
       "      <th></th>\n",
       "    </tr>\n",
       "  </thead>\n",
       "  <tbody>\n",
       "    <tr>\n",
       "      <th>High</th>\n",
       "      <td>171</td>\n",
       "      <td>284</td>\n",
       "    </tr>\n",
       "    <tr>\n",
       "      <th>Low</th>\n",
       "      <td>77</td>\n",
       "      <td>278</td>\n",
       "    </tr>\n",
       "  </tbody>\n",
       "</table>\n",
       "</div>"
      ],
      "text/plain": [
       "Chat_High_low    High  Low\n",
       "Viewer_High_low           \n",
       "High              171  284\n",
       "Low                77  278"
      ]
     },
     "execution_count": 201,
     "metadata": {},
     "output_type": "execute_result"
    }
   ],
   "source": [
    "pd.pivot_table(df_streamer, values='Donation_Number', index='Viewer_High_low', columns='Chat_High_low', aggfunc=sum)"
   ]
  },
  {
   "cell_type": "markdown",
   "id": "55a1bb37",
   "metadata": {},
   "source": [
    "In this data, the higher viewers and high chat speed don't bring the most donation."
   ]
  },
  {
   "cell_type": "markdown",
   "id": "fbc3d269",
   "metadata": {},
   "source": [
    "## Observations:"
   ]
  },
  {
   "cell_type": "markdown",
   "id": "a30c4bc2",
   "metadata": {},
   "source": [
    "1. Viewer Numbers Peak Time"
   ]
  },
  {
   "cell_type": "markdown",
   "id": "709be60d",
   "metadata": {},
   "source": [
    "Definition of `Peak`: At least 5 viewers `High` in 10 minutes.\\\n",
    "Definition of `Trough`: No more than 5 vierwes `High` in 10 minutes."
   ]
  },
  {
   "cell_type": "code",
   "execution_count": 205,
   "id": "070ca03a",
   "metadata": {},
   "outputs": [],
   "source": [
    "df_streamer['High_Cumsum'] = df_streamer['Viewer_High_low'].map({'High':1,'Low':0}).rolling(10).sum()"
   ]
  },
  {
   "cell_type": "code",
   "execution_count": 207,
   "id": "63a89531",
   "metadata": {},
   "outputs": [],
   "source": [
    "df_streamer['Peak_YN'] = df_streamer['High_Cumsum'].apply(lambda x : 'Y' if x>4 else 'N')"
   ]
  },
  {
   "cell_type": "code",
   "execution_count": 210,
   "id": "0a38733a",
   "metadata": {},
   "outputs": [
    {
     "data": {
      "text/plain": [
       "Int64Index([ 18,  19,  20,  21,  22,  23,  24,  25,  26,  27,  28,  29,  30,\n",
       "             31,  32,  33,  34,  35,  36,  37,  38,  39,  40,  41,  42,  45,\n",
       "             46,  47,  48,  49,  50,  51,  52,  53,  54,  55,  56,  57,  58,\n",
       "             59,  60,  73,  74,  75,  76,  77,  78,  79,  80,  81,  82,  83,\n",
       "             84,  85,  86,  87,  88,  89,  90,  91,  92,  93,  94,  95,  96,\n",
       "             97,  98,  99, 100, 101, 102, 114, 115, 116, 117, 118, 119],\n",
       "           dtype='int64')"
      ]
     },
     "execution_count": 210,
     "metadata": {},
     "output_type": "execute_result"
    }
   ],
   "source": [
    "df_streamer[df_streamer['Peak_YN'] == 'Y'].index"
   ]
  },
  {
   "cell_type": "markdown",
   "id": "6b7d37b4",
   "metadata": {},
   "source": [
    "Since in our definition, there are only `Peak` and `Trough` cases, so we can simply know when is `Trough` from the time of `Peak`."
   ]
  },
  {
   "cell_type": "markdown",
   "id": "a9beeb69",
   "metadata": {},
   "source": [
    "## We can see what did this streamer do to analyze what content attracts viewers and what churns viewers."
   ]
  },
  {
   "cell_type": "markdown",
   "id": "15321553",
   "metadata": {},
   "source": [
    "## Similarly, we can analyze about chat engagement and donation willingness."
   ]
  },
  {
   "cell_type": "markdown",
   "id": "e6260ca0",
   "metadata": {},
   "source": [
    "## Also, we can similarly analyze about the data at the time before holiday, at holiday and after holiday. "
   ]
  },
  {
   "cell_type": "code",
   "execution_count": null,
   "id": "bb5f25be",
   "metadata": {},
   "outputs": [],
   "source": []
  }
 ],
 "metadata": {
  "kernelspec": {
   "display_name": "Python 3 (ipykernel)",
   "language": "python",
   "name": "python3"
  },
  "language_info": {
   "codemirror_mode": {
    "name": "ipython",
    "version": 3
   },
   "file_extension": ".py",
   "mimetype": "text/x-python",
   "name": "python",
   "nbconvert_exporter": "python",
   "pygments_lexer": "ipython3",
   "version": "3.9.12"
  }
 },
 "nbformat": 4,
 "nbformat_minor": 5
}
